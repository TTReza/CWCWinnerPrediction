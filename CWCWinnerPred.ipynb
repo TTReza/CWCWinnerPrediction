{
 "cells": [
  {
   "cell_type": "code",
   "execution_count": 14,
   "id": "6a005854",
   "metadata": {},
   "outputs": [],
   "source": [
    "import pandas as pd\n",
    "import numpy as np\n",
    "import matplotlib.pyplot as plt\n",
    "import sklearn \n",
    "import seaborn as sns"
   ]
  },
  {
   "cell_type": "code",
   "execution_count": 15,
   "id": "d213ce3c",
   "metadata": {},
   "outputs": [],
   "source": [
    "cwc = pd.read_csv('CWCrecords.csv')"
   ]
  },
  {
   "cell_type": "code",
   "execution_count": 16,
   "id": "be65c0ae",
   "metadata": {},
   "outputs": [
    {
     "data": {
      "text/html": [
       "<div>\n",
       "<style scoped>\n",
       "    .dataframe tbody tr th:only-of-type {\n",
       "        vertical-align: middle;\n",
       "    }\n",
       "\n",
       "    .dataframe tbody tr th {\n",
       "        vertical-align: top;\n",
       "    }\n",
       "\n",
       "    .dataframe thead th {\n",
       "        text-align: right;\n",
       "    }\n",
       "</style>\n",
       "<table border=\"1\" class=\"dataframe\">\n",
       "  <thead>\n",
       "    <tr style=\"text-align: right;\">\n",
       "      <th></th>\n",
       "      <th>Index</th>\n",
       "      <th>venue</th>\n",
       "      <th>team1</th>\n",
       "      <th>score1</th>\n",
       "      <th>team2</th>\n",
       "      <th>score2</th>\n",
       "      <th>result</th>\n",
       "      <th>Unnamed: 7</th>\n",
       "      <th>Unnamed: 8</th>\n",
       "      <th>Unnamed: 9</th>\n",
       "      <th>Unnamed: 10</th>\n",
       "      <th>Unnamed: 11</th>\n",
       "    </tr>\n",
       "  </thead>\n",
       "  <tbody>\n",
       "    <tr>\n",
       "      <th>0</th>\n",
       "      <td>1</td>\n",
       "      <td>1st Match, Lord's, June 07, 1975, Prudential W...</td>\n",
       "      <td>England</td>\n",
       "      <td>334/4</td>\n",
       "      <td>India</td>\n",
       "      <td>132/3</td>\n",
       "      <td>England won by 202 runs</td>\n",
       "      <td>NaN</td>\n",
       "      <td>NaN</td>\n",
       "      <td>NaN</td>\n",
       "      <td>NaN</td>\n",
       "      <td>NaN</td>\n",
       "    </tr>\n",
       "    <tr>\n",
       "      <th>1</th>\n",
       "      <td>2</td>\n",
       "      <td>2nd Match, Birmingham, June 07, 1975, Prudenti...</td>\n",
       "      <td>New Zealand</td>\n",
       "      <td>309/5</td>\n",
       "      <td>East Africa</td>\n",
       "      <td>128/8</td>\n",
       "      <td>New Zealand won by 181 runs</td>\n",
       "      <td>NaN</td>\n",
       "      <td>NaN</td>\n",
       "      <td>NaN</td>\n",
       "      <td>NaN</td>\n",
       "      <td>NaN</td>\n",
       "    </tr>\n",
       "    <tr>\n",
       "      <th>2</th>\n",
       "      <td>3</td>\n",
       "      <td>3rd Match, Leeds, June 07, 1975, Prudential Wo...</td>\n",
       "      <td>Australia</td>\n",
       "      <td>278/7</td>\n",
       "      <td>Pakistan</td>\n",
       "      <td>205</td>\n",
       "      <td>Australia won by 73 runs</td>\n",
       "      <td>NaN</td>\n",
       "      <td>NaN</td>\n",
       "      <td>NaN</td>\n",
       "      <td>NaN</td>\n",
       "      <td>NaN</td>\n",
       "    </tr>\n",
       "    <tr>\n",
       "      <th>3</th>\n",
       "      <td>4</td>\n",
       "      <td>4th Match, Manchester, June 07, 1975, Prudenti...</td>\n",
       "      <td>Sri Lanka</td>\n",
       "      <td>86</td>\n",
       "      <td>West Indies</td>\n",
       "      <td>87/1</td>\n",
       "      <td>West Indies won by 9 wickets (with 236 balls r...</td>\n",
       "      <td>NaN</td>\n",
       "      <td>NaN</td>\n",
       "      <td>NaN</td>\n",
       "      <td>NaN</td>\n",
       "      <td>NaN</td>\n",
       "    </tr>\n",
       "    <tr>\n",
       "      <th>4</th>\n",
       "      <td>5</td>\n",
       "      <td>5th Match, Nottingham, June 11, 1975, Prudenti...</td>\n",
       "      <td>England</td>\n",
       "      <td>266/6</td>\n",
       "      <td>New Zealand</td>\n",
       "      <td>186</td>\n",
       "      <td>England won by 80 runs</td>\n",
       "      <td>NaN</td>\n",
       "      <td>NaN</td>\n",
       "      <td>NaN</td>\n",
       "      <td>NaN</td>\n",
       "      <td>NaN</td>\n",
       "    </tr>\n",
       "  </tbody>\n",
       "</table>\n",
       "</div>"
      ],
      "text/plain": [
       "   Index                                              venue        team1  \\\n",
       "0      1  1st Match, Lord's, June 07, 1975, Prudential W...      England   \n",
       "1      2  2nd Match, Birmingham, June 07, 1975, Prudenti...  New Zealand   \n",
       "2      3  3rd Match, Leeds, June 07, 1975, Prudential Wo...    Australia   \n",
       "3      4  4th Match, Manchester, June 07, 1975, Prudenti...    Sri Lanka   \n",
       "4      5  5th Match, Nottingham, June 11, 1975, Prudenti...      England   \n",
       "\n",
       "  score1        team2 score2  \\\n",
       "0  334/4        India  132/3   \n",
       "1  309/5  East Africa  128/8   \n",
       "2  278/7     Pakistan    205   \n",
       "3     86  West Indies   87/1   \n",
       "4  266/6  New Zealand    186   \n",
       "\n",
       "                                              result  Unnamed: 7  Unnamed: 8  \\\n",
       "0                            England won by 202 runs         NaN         NaN   \n",
       "1                        New Zealand won by 181 runs         NaN         NaN   \n",
       "2                           Australia won by 73 runs         NaN         NaN   \n",
       "3  West Indies won by 9 wickets (with 236 balls r...         NaN         NaN   \n",
       "4                             England won by 80 runs         NaN         NaN   \n",
       "\n",
       "   Unnamed: 9  Unnamed: 10  Unnamed: 11  \n",
       "0         NaN          NaN          NaN  \n",
       "1         NaN          NaN          NaN  \n",
       "2         NaN          NaN          NaN  \n",
       "3         NaN          NaN          NaN  \n",
       "4         NaN          NaN          NaN  "
      ]
     },
     "execution_count": 16,
     "metadata": {},
     "output_type": "execute_result"
    }
   ],
   "source": [
    "cwc.head()"
   ]
  },
  {
   "cell_type": "code",
   "execution_count": 17,
   "id": "09e36551",
   "metadata": {},
   "outputs": [],
   "source": [
    "# List of columns to delete\n",
    "columns_to_delete = ['Unnamed: 7', 'Unnamed: 8', 'Unnamed: 9', 'Unnamed: 10','Unnamed: 11']\n",
    "\n",
    "# Deleting the specified columns\n",
    "cwc = cwc.drop(columns=columns_to_delete)"
   ]
  },
  {
   "cell_type": "code",
   "execution_count": 22,
   "id": "970d51b2",
   "metadata": {},
   "outputs": [
    {
     "data": {
      "text/html": [
       "<div>\n",
       "<style scoped>\n",
       "    .dataframe tbody tr th:only-of-type {\n",
       "        vertical-align: middle;\n",
       "    }\n",
       "\n",
       "    .dataframe tbody tr th {\n",
       "        vertical-align: top;\n",
       "    }\n",
       "\n",
       "    .dataframe thead th {\n",
       "        text-align: right;\n",
       "    }\n",
       "</style>\n",
       "<table border=\"1\" class=\"dataframe\">\n",
       "  <thead>\n",
       "    <tr style=\"text-align: right;\">\n",
       "      <th></th>\n",
       "      <th>Index</th>\n",
       "      <th>venue</th>\n",
       "      <th>team1</th>\n",
       "      <th>score1</th>\n",
       "      <th>team2</th>\n",
       "      <th>score2</th>\n",
       "      <th>result</th>\n",
       "    </tr>\n",
       "  </thead>\n",
       "  <tbody>\n",
       "    <tr>\n",
       "      <th>0</th>\n",
       "      <td>1</td>\n",
       "      <td>1st Match, Lord's, June 07, 1975, Prudential W...</td>\n",
       "      <td>England</td>\n",
       "      <td>334/4</td>\n",
       "      <td>India</td>\n",
       "      <td>132/3</td>\n",
       "      <td>England won by 202 runs</td>\n",
       "    </tr>\n",
       "    <tr>\n",
       "      <th>1</th>\n",
       "      <td>2</td>\n",
       "      <td>2nd Match, Birmingham, June 07, 1975, Prudenti...</td>\n",
       "      <td>New Zealand</td>\n",
       "      <td>309/5</td>\n",
       "      <td>East Africa</td>\n",
       "      <td>128/8</td>\n",
       "      <td>New Zealand won by 181 runs</td>\n",
       "    </tr>\n",
       "    <tr>\n",
       "      <th>2</th>\n",
       "      <td>3</td>\n",
       "      <td>3rd Match, Leeds, June 07, 1975, Prudential Wo...</td>\n",
       "      <td>Australia</td>\n",
       "      <td>278/7</td>\n",
       "      <td>Pakistan</td>\n",
       "      <td>205</td>\n",
       "      <td>Australia won by 73 runs</td>\n",
       "    </tr>\n",
       "    <tr>\n",
       "      <th>3</th>\n",
       "      <td>4</td>\n",
       "      <td>4th Match, Manchester, June 07, 1975, Prudenti...</td>\n",
       "      <td>Sri Lanka</td>\n",
       "      <td>86</td>\n",
       "      <td>West Indies</td>\n",
       "      <td>87/1</td>\n",
       "      <td>West Indies won by 9 wickets (with 236 balls r...</td>\n",
       "    </tr>\n",
       "    <tr>\n",
       "      <th>4</th>\n",
       "      <td>5</td>\n",
       "      <td>5th Match, Nottingham, June 11, 1975, Prudenti...</td>\n",
       "      <td>England</td>\n",
       "      <td>266/6</td>\n",
       "      <td>New Zealand</td>\n",
       "      <td>186</td>\n",
       "      <td>England won by 80 runs</td>\n",
       "    </tr>\n",
       "  </tbody>\n",
       "</table>\n",
       "</div>"
      ],
      "text/plain": [
       "   Index                                              venue        team1  \\\n",
       "0      1  1st Match, Lord's, June 07, 1975, Prudential W...      England   \n",
       "1      2  2nd Match, Birmingham, June 07, 1975, Prudenti...  New Zealand   \n",
       "2      3  3rd Match, Leeds, June 07, 1975, Prudential Wo...    Australia   \n",
       "3      4  4th Match, Manchester, June 07, 1975, Prudenti...    Sri Lanka   \n",
       "4      5  5th Match, Nottingham, June 11, 1975, Prudenti...      England   \n",
       "\n",
       "  score1        team2 score2  \\\n",
       "0  334/4        India  132/3   \n",
       "1  309/5  East Africa  128/8   \n",
       "2  278/7     Pakistan    205   \n",
       "3     86  West Indies   87/1   \n",
       "4  266/6  New Zealand    186   \n",
       "\n",
       "                                              result  \n",
       "0                            England won by 202 runs  \n",
       "1                        New Zealand won by 181 runs  \n",
       "2                           Australia won by 73 runs  \n",
       "3  West Indies won by 9 wickets (with 236 balls r...  \n",
       "4                             England won by 80 runs  "
      ]
     },
     "execution_count": 22,
     "metadata": {},
     "output_type": "execute_result"
    }
   ],
   "source": [
    "cwc.head()"
   ]
  },
  {
   "cell_type": "code",
   "execution_count": 23,
   "id": "8667e63f",
   "metadata": {},
   "outputs": [],
   "source": [
    "cwc = cwc.drop(columns=['Index'])"
   ]
  },
  {
   "cell_type": "code",
   "execution_count": 24,
   "id": "9a51527c",
   "metadata": {},
   "outputs": [
    {
     "data": {
      "text/html": [
       "<div>\n",
       "<style scoped>\n",
       "    .dataframe tbody tr th:only-of-type {\n",
       "        vertical-align: middle;\n",
       "    }\n",
       "\n",
       "    .dataframe tbody tr th {\n",
       "        vertical-align: top;\n",
       "    }\n",
       "\n",
       "    .dataframe thead th {\n",
       "        text-align: right;\n",
       "    }\n",
       "</style>\n",
       "<table border=\"1\" class=\"dataframe\">\n",
       "  <thead>\n",
       "    <tr style=\"text-align: right;\">\n",
       "      <th></th>\n",
       "      <th>venue</th>\n",
       "      <th>team1</th>\n",
       "      <th>score1</th>\n",
       "      <th>team2</th>\n",
       "      <th>score2</th>\n",
       "      <th>result</th>\n",
       "    </tr>\n",
       "  </thead>\n",
       "  <tbody>\n",
       "    <tr>\n",
       "      <th>0</th>\n",
       "      <td>1st Match, Lord's, June 07, 1975, Prudential W...</td>\n",
       "      <td>England</td>\n",
       "      <td>334/4</td>\n",
       "      <td>India</td>\n",
       "      <td>132/3</td>\n",
       "      <td>England won by 202 runs</td>\n",
       "    </tr>\n",
       "    <tr>\n",
       "      <th>1</th>\n",
       "      <td>2nd Match, Birmingham, June 07, 1975, Prudenti...</td>\n",
       "      <td>New Zealand</td>\n",
       "      <td>309/5</td>\n",
       "      <td>East Africa</td>\n",
       "      <td>128/8</td>\n",
       "      <td>New Zealand won by 181 runs</td>\n",
       "    </tr>\n",
       "    <tr>\n",
       "      <th>2</th>\n",
       "      <td>3rd Match, Leeds, June 07, 1975, Prudential Wo...</td>\n",
       "      <td>Australia</td>\n",
       "      <td>278/7</td>\n",
       "      <td>Pakistan</td>\n",
       "      <td>205</td>\n",
       "      <td>Australia won by 73 runs</td>\n",
       "    </tr>\n",
       "    <tr>\n",
       "      <th>3</th>\n",
       "      <td>4th Match, Manchester, June 07, 1975, Prudenti...</td>\n",
       "      <td>Sri Lanka</td>\n",
       "      <td>86</td>\n",
       "      <td>West Indies</td>\n",
       "      <td>87/1</td>\n",
       "      <td>West Indies won by 9 wickets (with 236 balls r...</td>\n",
       "    </tr>\n",
       "    <tr>\n",
       "      <th>4</th>\n",
       "      <td>5th Match, Nottingham, June 11, 1975, Prudenti...</td>\n",
       "      <td>England</td>\n",
       "      <td>266/6</td>\n",
       "      <td>New Zealand</td>\n",
       "      <td>186</td>\n",
       "      <td>England won by 80 runs</td>\n",
       "    </tr>\n",
       "  </tbody>\n",
       "</table>\n",
       "</div>"
      ],
      "text/plain": [
       "                                               venue        team1 score1  \\\n",
       "0  1st Match, Lord's, June 07, 1975, Prudential W...      England  334/4   \n",
       "1  2nd Match, Birmingham, June 07, 1975, Prudenti...  New Zealand  309/5   \n",
       "2  3rd Match, Leeds, June 07, 1975, Prudential Wo...    Australia  278/7   \n",
       "3  4th Match, Manchester, June 07, 1975, Prudenti...    Sri Lanka     86   \n",
       "4  5th Match, Nottingham, June 11, 1975, Prudenti...      England  266/6   \n",
       "\n",
       "         team2 score2                                             result  \n",
       "0        India  132/3                            England won by 202 runs  \n",
       "1  East Africa  128/8                        New Zealand won by 181 runs  \n",
       "2     Pakistan    205                           Australia won by 73 runs  \n",
       "3  West Indies   87/1  West Indies won by 9 wickets (with 236 balls r...  \n",
       "4  New Zealand    186                             England won by 80 runs  "
      ]
     },
     "execution_count": 24,
     "metadata": {},
     "output_type": "execute_result"
    }
   ],
   "source": [
    "cwc.head()"
   ]
  },
  {
   "cell_type": "code",
   "execution_count": 25,
   "id": "7a20a2f9",
   "metadata": {},
   "outputs": [
    {
     "data": {
      "text/plain": [
       "venue      0\n",
       "team1      0\n",
       "score1     9\n",
       "team2      0\n",
       "score2    14\n",
       "result     0\n",
       "dtype: int64"
      ]
     },
     "execution_count": 25,
     "metadata": {},
     "output_type": "execute_result"
    }
   ],
   "source": [
    "cwc.isnull().sum()"
   ]
  },
  {
   "cell_type": "code",
   "execution_count": 27,
   "id": "367ae702",
   "metadata": {},
   "outputs": [
    {
     "name": "stdout",
     "output_type": "stream",
     "text": [
      "0    1st Match, Lord's, June 07, 1975, Prudential W...\n",
      "1    2nd Match, Birmingham, June 07, 1975, Prudenti...\n",
      "2    3rd Match, Leeds, June 07, 1975, Prudential Wo...\n",
      "3    4th Match, Manchester, June 07, 1975, Prudenti...\n",
      "4    5th Match, Nottingham, June 11, 1975, Prudenti...\n",
      "Name: venue, dtype: object\n"
     ]
    }
   ],
   "source": [
    "print(cwc['venue'].head())"
   ]
  },
  {
   "cell_type": "code",
   "execution_count": 28,
   "id": "ec1e3dc6",
   "metadata": {},
   "outputs": [],
   "source": [
    "# change the column name of 'venue' in 'cwc' DataFrame\n",
    "cwc = cwc.rename(columns={'venue': 'Year'})"
   ]
  },
  {
   "cell_type": "code",
   "execution_count": 29,
   "id": "c3231b3a",
   "metadata": {},
   "outputs": [],
   "source": [
    "cwc = cwc.rename(columns={'team1': 'bat_first', 'score1': 'score_first', 'team2' : 'bat_second', 'score2': 'score_second' })"
   ]
  },
  {
   "cell_type": "code",
   "execution_count": 31,
   "id": "6d5a045b",
   "metadata": {},
   "outputs": [
    {
     "data": {
      "text/html": [
       "<div>\n",
       "<style scoped>\n",
       "    .dataframe tbody tr th:only-of-type {\n",
       "        vertical-align: middle;\n",
       "    }\n",
       "\n",
       "    .dataframe tbody tr th {\n",
       "        vertical-align: top;\n",
       "    }\n",
       "\n",
       "    .dataframe thead th {\n",
       "        text-align: right;\n",
       "    }\n",
       "</style>\n",
       "<table border=\"1\" class=\"dataframe\">\n",
       "  <thead>\n",
       "    <tr style=\"text-align: right;\">\n",
       "      <th></th>\n",
       "      <th>Year</th>\n",
       "      <th>bat_first</th>\n",
       "      <th>score_first</th>\n",
       "      <th>bat_second</th>\n",
       "      <th>score_second</th>\n",
       "      <th>result</th>\n",
       "    </tr>\n",
       "  </thead>\n",
       "  <tbody>\n",
       "    <tr>\n",
       "      <th>0</th>\n",
       "      <td>1st Match, Lord's, June 07, 1975, Prudential W...</td>\n",
       "      <td>England</td>\n",
       "      <td>334/4</td>\n",
       "      <td>India</td>\n",
       "      <td>132/3</td>\n",
       "      <td>England won by 202 runs</td>\n",
       "    </tr>\n",
       "    <tr>\n",
       "      <th>1</th>\n",
       "      <td>2nd Match, Birmingham, June 07, 1975, Prudenti...</td>\n",
       "      <td>New Zealand</td>\n",
       "      <td>309/5</td>\n",
       "      <td>East Africa</td>\n",
       "      <td>128/8</td>\n",
       "      <td>New Zealand won by 181 runs</td>\n",
       "    </tr>\n",
       "    <tr>\n",
       "      <th>2</th>\n",
       "      <td>3rd Match, Leeds, June 07, 1975, Prudential Wo...</td>\n",
       "      <td>Australia</td>\n",
       "      <td>278/7</td>\n",
       "      <td>Pakistan</td>\n",
       "      <td>205</td>\n",
       "      <td>Australia won by 73 runs</td>\n",
       "    </tr>\n",
       "    <tr>\n",
       "      <th>3</th>\n",
       "      <td>4th Match, Manchester, June 07, 1975, Prudenti...</td>\n",
       "      <td>Sri Lanka</td>\n",
       "      <td>86</td>\n",
       "      <td>West Indies</td>\n",
       "      <td>87/1</td>\n",
       "      <td>West Indies won by 9 wickets (with 236 balls r...</td>\n",
       "    </tr>\n",
       "    <tr>\n",
       "      <th>4</th>\n",
       "      <td>5th Match, Nottingham, June 11, 1975, Prudenti...</td>\n",
       "      <td>England</td>\n",
       "      <td>266/6</td>\n",
       "      <td>New Zealand</td>\n",
       "      <td>186</td>\n",
       "      <td>England won by 80 runs</td>\n",
       "    </tr>\n",
       "  </tbody>\n",
       "</table>\n",
       "</div>"
      ],
      "text/plain": [
       "                                                Year    bat_first score_first  \\\n",
       "0  1st Match, Lord's, June 07, 1975, Prudential W...      England       334/4   \n",
       "1  2nd Match, Birmingham, June 07, 1975, Prudenti...  New Zealand       309/5   \n",
       "2  3rd Match, Leeds, June 07, 1975, Prudential Wo...    Australia       278/7   \n",
       "3  4th Match, Manchester, June 07, 1975, Prudenti...    Sri Lanka          86   \n",
       "4  5th Match, Nottingham, June 11, 1975, Prudenti...      England       266/6   \n",
       "\n",
       "    bat_second score_second                                             result  \n",
       "0        India        132/3                            England won by 202 runs  \n",
       "1  East Africa        128/8                        New Zealand won by 181 runs  \n",
       "2     Pakistan          205                           Australia won by 73 runs  \n",
       "3  West Indies         87/1  West Indies won by 9 wickets (with 236 balls r...  \n",
       "4  New Zealand          186                             England won by 80 runs  "
      ]
     },
     "execution_count": 31,
     "metadata": {},
     "output_type": "execute_result"
    }
   ],
   "source": [
    "cwc.head()"
   ]
  },
  {
   "cell_type": "code",
   "execution_count": 32,
   "id": "c30f5cab",
   "metadata": {},
   "outputs": [],
   "source": [
    "cwc['Year'] = cwc['Year'].str.extract(r'(\\b\\d{4}\\b)')"
   ]
  },
  {
   "cell_type": "code",
   "execution_count": 33,
   "id": "62a2d896",
   "metadata": {},
   "outputs": [
    {
     "data": {
      "text/plain": [
       "0    1975\n",
       "1    1975\n",
       "2    1975\n",
       "3    1975\n",
       "4    1975\n",
       "Name: Year, dtype: object"
      ]
     },
     "execution_count": 33,
     "metadata": {},
     "output_type": "execute_result"
    }
   ],
   "source": [
    "cwc['Year'].head()"
   ]
  },
  {
   "cell_type": "code",
   "execution_count": 34,
   "id": "fcfe2ebe",
   "metadata": {},
   "outputs": [
    {
     "data": {
      "text/plain": [
       "0        England\n",
       "1    New Zealand\n",
       "2      Australia\n",
       "3      Sri Lanka\n",
       "4        England\n",
       "Name: bat_first, dtype: object"
      ]
     },
     "execution_count": 34,
     "metadata": {},
     "output_type": "execute_result"
    }
   ],
   "source": [
    "cwc['bat_first'].head()"
   ]
  },
  {
   "cell_type": "code",
   "execution_count": 35,
   "id": "d38afe75",
   "metadata": {},
   "outputs": [
    {
     "data": {
      "text/plain": [
       "count           454\n",
       "unique           19\n",
       "top       Australia\n",
       "freq             58\n",
       "Name: bat_first, dtype: object"
      ]
     },
     "execution_count": 35,
     "metadata": {},
     "output_type": "execute_result"
    }
   ],
   "source": [
    "cwc['bat_first'].describe()"
   ]
  },
  {
   "cell_type": "code",
   "execution_count": 37,
   "id": "876f28ef",
   "metadata": {},
   "outputs": [
    {
     "data": {
      "image/png": "[encoded data removed]",
      "text/plain": [
       "<Figure size 720x432 with 1 Axes>"
      ]
     },
     "metadata": {
      "needs_background": "light"
     },
     "output_type": "display_data"
    }
   ],
   "source": [
    "team_counts = cwc['bat_first'].value_counts()\n",
    "\n",
    "# Creating a bar chart to see how many times each teams are there in the column\n",
    "plt.figure(figsize=(10, 6))\n",
    "team_counts.plot(kind='bar')\n",
    "plt.title('Team Frequencies in \"bat_first\" Column')\n",
    "plt.xlabel('Team')\n",
    "plt.ylabel('Frequency')\n",
    "plt.xticks(rotation=90)\n",
    "plt.show()"
   ]
  },
  {
   "cell_type": "code",
   "execution_count": 42,
   "id": "44f19081",
   "metadata": {},
   "outputs": [],
   "source": [
    "# Replace values in the 'bat_first' column\n",
    "cwc['bat_first'].replace({\n",
    "    'South Africa': 'SA',\n",
    "    'United Arab Emirates': 'UAE',\n",
    "    'West Indies': 'WI',\n",
    "    'New Zealand': 'NZ',\n",
    "    'Sri Lanka' : 'SL'\n",
    "}, inplace=True)"
   ]
  },
  {
   "cell_type": "code",
   "execution_count": 43,
   "id": "90900594",
   "metadata": {},
   "outputs": [
    {
     "data": {
      "text/plain": [
       "array(['England', 'NZ', 'Australia', 'SL', 'East Africa', 'Pakistan',\n",
       "       'India', 'WI', 'Canada', 'Zimbabwe', 'SA', 'Kenya', 'UAE',\n",
       "       'Netherlands', 'Scotland', 'Bangladesh', 'Ireland', 'Bermuda',\n",
       "       'Afghanistan'], dtype=object)"
      ]
     },
     "execution_count": 43,
     "metadata": {},
     "output_type": "execute_result"
    }
   ],
   "source": [
    "cwc['bat_first'].unique()"
   ]
  },
  {
   "cell_type": "code",
   "execution_count": 44,
   "id": "0d716b09",
   "metadata": {},
   "outputs": [],
   "source": [
    "# taking the first three letters\n",
    "cwc['bat_first'] = cwc['bat_first'].apply(lambda x: x[:3] if len(x) > 2 else x)"
   ]
  },
  {
   "cell_type": "code",
   "execution_count": 45,
   "id": "283955fe",
   "metadata": {},
   "outputs": [
    {
     "data": {
      "text/plain": [
       "array(['Eng', 'NZ', 'Aus', 'SL', 'Eas', 'Pak', 'Ind', 'WI', 'Can', 'Zim',\n",
       "       'SA', 'Ken', 'UAE', 'Net', 'Sco', 'Ban', 'Ire', 'Ber', 'Afg'],\n",
       "      dtype=object)"
      ]
     },
     "execution_count": 45,
     "metadata": {},
     "output_type": "execute_result"
    }
   ],
   "source": [
    "cwc['bat_first'].unique()"
   ]
  },
  {
   "cell_type": "code",
   "execution_count": 46,
   "id": "93cc5d2e",
   "metadata": {},
   "outputs": [],
   "source": [
    "# Replace values in the 'bat_second' column\n",
    "cwc['bat_second'].replace({\n",
    "    'South Africa': 'SA',\n",
    "    'United Arab Emirates': 'UAE',\n",
    "    'West Indies': 'WI',\n",
    "    'New Zealand': 'NZ',\n",
    "    'Sri Lanka' : 'SL'\n",
    "}, inplace=True)"
   ]
  },
  {
   "cell_type": "code",
   "execution_count": 47,
   "id": "c75eaa37",
   "metadata": {},
   "outputs": [
    {
     "data": {
      "text/plain": [
       "array(['India', 'East Africa', 'Pakistan', 'WI', 'NZ', 'SL', 'Australia',\n",
       "       'England', 'Zimbabwe', 'SA', 'UAE', 'Netherlands', 'Kenya',\n",
       "       'Scotland', 'Namibia', 'Bangladesh', 'Canada', 'Bermuda',\n",
       "       'Ireland', 'Afghanistan'], dtype=object)"
      ]
     },
     "execution_count": 47,
     "metadata": {},
     "output_type": "execute_result"
    }
   ],
   "source": [
    "cwc['bat_second'].unique()"
   ]
  },
  {
   "cell_type": "code",
   "execution_count": 49,
   "id": "e9e5ed79",
   "metadata": {},
   "outputs": [],
   "source": [
    "# taking the first three letters\n",
    "cwc['bat_second'] = cwc['bat_second'].apply(lambda x: x[:3] if len(x) > 2 else x)"
   ]
  },
  {
   "cell_type": "code",
   "execution_count": 50,
   "id": "34c5185a",
   "metadata": {},
   "outputs": [
    {
     "data": {
      "text/plain": [
       "array(['Ind', 'Eas', 'Pak', 'WI', 'NZ', 'SL', 'Aus', 'Eng', 'Zim', 'SA',\n",
       "       'UAE', 'Net', 'Ken', 'Sco', 'Nam', 'Ban', 'Can', 'Ber', 'Ire',\n",
       "       'Afg'], dtype=object)"
      ]
     },
     "execution_count": 50,
     "metadata": {},
     "output_type": "execute_result"
    }
   ],
   "source": [
    "cwc['bat_second'].unique()"
   ]
  },
  {
   "cell_type": "code",
   "execution_count": 51,
   "id": "e24b53b7",
   "metadata": {},
   "outputs": [],
   "source": [
    "cwc['bat_first'] = cwc['bat_first'].str.upper()\n",
    "cwc['bat_second'] = cwc['bat_second'].str.upper()"
   ]
  },
  {
   "cell_type": "code",
   "execution_count": 52,
   "id": "dd116135",
   "metadata": {},
   "outputs": [
    {
     "data": {
      "text/html": [
       "<div>\n",
       "<style scoped>\n",
       "    .dataframe tbody tr th:only-of-type {\n",
       "        vertical-align: middle;\n",
       "    }\n",
       "\n",
       "    .dataframe tbody tr th {\n",
       "        vertical-align: top;\n",
       "    }\n",
       "\n",
       "    .dataframe thead th {\n",
       "        text-align: right;\n",
       "    }\n",
       "</style>\n",
       "<table border=\"1\" class=\"dataframe\">\n",
       "  <thead>\n",
       "    <tr style=\"text-align: right;\">\n",
       "      <th></th>\n",
       "      <th>Year</th>\n",
       "      <th>bat_first</th>\n",
       "      <th>score_first</th>\n",
       "      <th>bat_second</th>\n",
       "      <th>score_second</th>\n",
       "      <th>result</th>\n",
       "    </tr>\n",
       "  </thead>\n",
       "  <tbody>\n",
       "    <tr>\n",
       "      <th>0</th>\n",
       "      <td>1975</td>\n",
       "      <td>ENG</td>\n",
       "      <td>334/4</td>\n",
       "      <td>IND</td>\n",
       "      <td>132/3</td>\n",
       "      <td>England won by 202 runs</td>\n",
       "    </tr>\n",
       "    <tr>\n",
       "      <th>1</th>\n",
       "      <td>1975</td>\n",
       "      <td>NZ</td>\n",
       "      <td>309/5</td>\n",
       "      <td>EAS</td>\n",
       "      <td>128/8</td>\n",
       "      <td>New Zealand won by 181 runs</td>\n",
       "    </tr>\n",
       "    <tr>\n",
       "      <th>2</th>\n",
       "      <td>1975</td>\n",
       "      <td>AUS</td>\n",
       "      <td>278/7</td>\n",
       "      <td>PAK</td>\n",
       "      <td>205</td>\n",
       "      <td>Australia won by 73 runs</td>\n",
       "    </tr>\n",
       "    <tr>\n",
       "      <th>3</th>\n",
       "      <td>1975</td>\n",
       "      <td>SL</td>\n",
       "      <td>86</td>\n",
       "      <td>WI</td>\n",
       "      <td>87/1</td>\n",
       "      <td>West Indies won by 9 wickets (with 236 balls r...</td>\n",
       "    </tr>\n",
       "    <tr>\n",
       "      <th>4</th>\n",
       "      <td>1975</td>\n",
       "      <td>ENG</td>\n",
       "      <td>266/6</td>\n",
       "      <td>NZ</td>\n",
       "      <td>186</td>\n",
       "      <td>England won by 80 runs</td>\n",
       "    </tr>\n",
       "  </tbody>\n",
       "</table>\n",
       "</div>"
      ],
      "text/plain": [
       "   Year bat_first score_first bat_second score_second  \\\n",
       "0  1975       ENG       334/4        IND        132/3   \n",
       "1  1975        NZ       309/5        EAS        128/8   \n",
       "2  1975       AUS       278/7        PAK          205   \n",
       "3  1975        SL          86         WI         87/1   \n",
       "4  1975       ENG       266/6         NZ          186   \n",
       "\n",
       "                                              result  \n",
       "0                            England won by 202 runs  \n",
       "1                        New Zealand won by 181 runs  \n",
       "2                           Australia won by 73 runs  \n",
       "3  West Indies won by 9 wickets (with 236 balls r...  \n",
       "4                             England won by 80 runs  "
      ]
     },
     "execution_count": 52,
     "metadata": {},
     "output_type": "execute_result"
    }
   ],
   "source": [
    "cwc.head()"
   ]
  },
  {
   "cell_type": "code",
   "execution_count": 53,
   "id": "fc43f800",
   "metadata": {},
   "outputs": [
    {
     "data": {
      "image/png": "[encoded data removed]",
      "text/plain": [
       "<Figure size 720x432 with 1 Axes>"
      ]
     },
     "metadata": {
      "needs_background": "light"
     },
     "output_type": "display_data"
    }
   ],
   "source": [
    "team_counts = cwc['bat_second'].value_counts()\n",
    "\n",
    "# Creating a bar chart to see how many times each teams are there in the column\n",
    "plt.figure(figsize=(10, 6))\n",
    "team_counts.plot(kind='bar')\n",
    "plt.title('Team Frequencies in \"bat_second\" Column')\n",
    "plt.xlabel('Team')\n",
    "plt.ylabel('Frequency')\n",
    "plt.xticks(rotation=90)\n",
    "plt.show()"
   ]
  },
  {
   "cell_type": "code",
   "execution_count": 54,
   "id": "583f71ae",
   "metadata": {},
   "outputs": [
    {
     "name": "stdout",
     "output_type": "stream",
     "text": [
      "count     445\n",
      "unique    381\n",
      "top       136\n",
      "freq        4\n",
      "Name: score_first, dtype: object\n",
      "count     440\n",
      "unique    361\n",
      "top       221\n",
      "freq        6\n",
      "Name: score_second, dtype: object\n"
     ]
    }
   ],
   "source": [
    "print(cwc['score_first'].describe())\n",
    "print(cwc['score_second'].describe())"
   ]
  },
  {
   "cell_type": "code",
   "execution_count": 55,
   "id": "4eea750e",
   "metadata": {},
   "outputs": [
    {
     "name": "stdout",
     "output_type": "stream",
     "text": [
      "Unique values in the 'score_first' column:\n",
      "['334/4' '309/5' '278/7' '86' '266/6' '120' '328/5' '266/7' '192' '330/6'\n",
      " '290/5' '230' '93' '158' '291/8' '190' '189' '159/9' '139/9' nan '182'\n",
      " '286/7' '45' '165/9' '238/5' '244/7' '105' '221/8' '293/6' '286/9'\n",
      " '322/6' '338/5' '239/6' '262/8' '333/9' '238/9' '252/9' '155' '320/9'\n",
      " '217/7' '193/8' '206' '234' '282/9' '235/7' '272/7' '232/8' '181' '273/6'\n",
      " '266/8' '136' '261/3' '247' '171' '213' '184/8' '183' '267/6' '270/6'\n",
      " '243/7' '242/7' '239/7' '235/9' '360/4' '252/7' '216' '135' '296/4'\n",
      " '199/4' '244/9' '236/8' '289/6' '227/5' '297/7' '269/5' '191/7' '251/8'\n",
      " '266/5' '218/7' '258/7' '221/9' '267/8' '254/6' '253/5' '248/6' '236/9'\n",
      " '312/4' '220/2' '206/9' '170/9' '254/4' '157' '1/0' '190/7' '264/8'\n",
      " '237/9' '74' '195' '162/3' '216/7' '200/8' '203/7' '189/9' '211/7'\n",
      " '280/6' '197' '163' '220/9' '230/6' '236/4' '268/8' '265/6' '180/6'\n",
      " '212/6' '166' '134' '216/6' '262/7' '252/6' '249/6' '321/2' '151/9'\n",
      " '307/8' '199/6' '177/9' '228/6' '173' '279/4' '304/7' '109/9' '45/3'\n",
      " '145/7' '276/8' '258' '242/6' '154' '216/9' '271/3' '249/9' '229/6'\n",
      " '328/3' '247/5' '398/5' '281/5' '235/8' '287/8' '207/8' '241/7' '204'\n",
      " '229/7' '181/7' '229/8' '116' '203' '199/9' '261/6' '213/8' '225/7'\n",
      " '197/9' '329/2' '275/8' '185/9' '156' '167/8' '152' '373/6' '178/7' '68'\n",
      " '269/8' '233/6' '110' '223/9' '121' '282/6' '220/7' '175' '227/6' '303/4'\n",
      " '287/5' '271/9' '251/6' '271/7' '132' '278/5' '340/2' '310/8' '180' '140'\n",
      " '124' '125' '142/9' '255/9' '306/6' '255/7' '36' '272' '170/2' '108'\n",
      " '246/8' '202' '311/2' '210/9' '246/9' '253/9' '198/7' '250/9' '301/6'\n",
      " '254/8' '301/8' '273/7' '204/8' '196' '314/4' '268/9' '73/3' '246/7'\n",
      " '319/5' '225/6' '292/6' '208/9' '133' '146' '256/5' '174/8' '212/7'\n",
      " '270/4' '359/2' '241/9' '334/6' '199' '321/6' '353/3' '209/7' '191'\n",
      " '279/6' '358/5' '413/5' '202/5' '186/8' '331/7' '318/4' '349' '363/5'\n",
      " '183/8' '377/6' '177' '94/9' '209' '104/6' '303/5' '174' '152/8' '235'\n",
      " '263/8' '356/4' '143' '219/7' '91' '193/7' '226' '77' '230/5' '348/6'\n",
      " '300' '289/5' '149' '281/4' '370/4' '69' '332/7' '262/6' '317/7' '222'\n",
      " '205' '277/7' '338' '298/9' '330/8' '142' '327/8' '351/5' '184' '162'\n",
      " '58' '146/3' '207' '198' '302/7' '327/6' '275' '225' '296' '358/6'\n",
      " '324/6' '160' '151/7' '211' '243' '306' '265/9' '284/8' '176' '308/6'\n",
      " '268' '112' '260/6' '217' '260/9' '274/6' '331/6' '342/9' '339/4' '300/7'\n",
      " '267' '285/7' '123' '310/6' '232' '307/7' '303/8' '372/2' '278/9' '210'\n",
      " '332/1' '408/5' '151' '102' '309/6' '411/4' '339/6' '417/6' '318/8'\n",
      " '331/8' '186' '376/9' '275/7' '259' '363/9' '341/6' '288/7' '111/7' '287'\n",
      " '130' '237' '302/6' '393/6' '328/7' '311/8' '348/8' '201' '227/9' '244'\n",
      " '288' '386/6' '172' '352/5' '29/2' '307' '212' '334/7' '336/5' '321/8'\n",
      " '397/6' '241/6' '381/5' '232/9' '224/8' '308/7' '237/6' '268/7' '243/9'\n",
      " '337/7' '338/6' '314/9' '305/8' '311/6' '315/9' '264/7' '325/6' '239/8'\n",
      " '223' '241/8']\n",
      "Number of missing values in the 'score_first' column: 9\n"
     ]
    }
   ],
   "source": [
    "# To see the unique values\n",
    "unique_values = cwc['score_first'].unique()\n",
    "print(\"Unique values in the 'score_first' column:\")\n",
    "print(unique_values)\n",
    "\n",
    "# To check for missing values\n",
    "missing_values = cwc['score_first'].isnull().sum()\n",
    "print(f\"Number of missing values in the 'score_first' column: {missing_values}\")"
   ]
  },
  {
   "cell_type": "code",
   "execution_count": 56,
   "id": "a2baf4f4",
   "metadata": {},
   "outputs": [
    {
     "name": "stdout",
     "output_type": "stream",
     "text": [
      "Unique values in the 'score_second' column:\n",
      "['132/3' '128/8' '205' '87/1' '186' '123/0' '276/4' '267/9' '195/3' '138'\n",
      " '94' '233/6' '94/6' '159/5' '274' '194/1' '190/1' '160/4' '140/2' nan\n",
      " '183/2' '197' '46/2' '151' '191' '212/9' '106/3' '250' '194' '216'\n",
      " '288/9' '226/7' '228' '286' '157/5' '158' '218/2' '199/2' '209/5' '238/8'\n",
      " '224' '240' '233/3' '184/7' '276/3' '235' '137/1' '129' '172/0' '217/4'\n",
      " '188/2' '140' '252' '269' '246/8' '239' '221' '139' '169/4' '236/8'\n",
      " '217/9' '136/2' '158/8' '196/9' '247/3' '211/8' '233' '228/6' '184/8'\n",
      " '194/3' '234' '196/6' '219/2' '230/9' '224/1' '249' '219' '211' '227'\n",
      " '313/7' '221/0' '210/4' '171/1' '201/7' '191/3' '189/7' '24-Jan' '198/7'\n",
      " '105/7' '173' '136' '173/2' '104/1' '190/3' '206/5' '173/8' '174' '195/5'\n",
      " '164/3' '172' '231/6' '177/9' '137' '201/3' '181/4' '216/6' '167/3' '125'\n",
      " '159' '264/6' '232/6' '228/9' '152/8' '155/4' '188/7' '203/3' '178/5'\n",
      " '229/4' '174/5' '230/6' '207/7' '112/1' '152' '151/2' '137/5' '167/9'\n",
      " '242' '93' '243/5' '158/2' '220/3' '272/4' '250/3' '168/8' '207' '254/7'\n",
      " '236/5' '248/9' '245' '289/4' '120/8' '202' '245/3' '207/2' '254/6'\n",
      " '231/5' '182/4' '117/4' '204/1' '110' '167' '214/5' '183/3' '103' '198/6'\n",
      " '235/7' '265' '163' '158/3' '168/3' '153/3' '181/3' '70/2' '207/8' '169'\n",
      " '185' '111/4' '161' '123/4' '221/7' '70/3' '180' '259/6' '213/8' '123'\n",
      " '253/5' '272/5' '242/1' '213' '133/2' '275/9' '104/5' '225' '120' '142/0'\n",
      " '126/0' '128/1' '144/4' '84' '229/1' '32/2' '37/1' '122' '109/0' '134'\n",
      " '206/3' '130' '157' '248/3' '156' '199/3' '168' '45' '136/5' '202/9'\n",
      " '222/9' '208/8' '197/5' '229/6' '104' '223' '226/4' '253/4' '109' '112'\n",
      " '135/3' '150/3' '182' '123/7' '179' '187' '131' '78' '132/9' '192/5'\n",
      " '133/7' '228/7' '204/4' '188/3' '183' '99' '190/2' '294' '178/3' '96/3'\n",
      " '179/3' '218' '106/0' '190' '178/1' '165/3' '233/8' '184' '289/9' '147/6'\n",
      " '222/4' '92/1' '196/5' '232/3' '157/1' '81/2' '133' '301/9' '208' '215/8'\n",
      " '283/9' '72/0' '171' '296/4' '223/3' '207/3' '178' '266/9' '338/8' '115'\n",
      " '146/1' '329/7' '166/0' '59/1' '165' '210/5' '199/5' '192' '191/5' '188'\n",
      " '231' '227/8' '300/7' '261/9' '166/4' '141' '212/3' '307/4' '153' '178/6'\n",
      " '147' '113/0' '261/5' '231/0' '220/5' '277/4' '277' '307/6' '146/7' '162'\n",
      " '286/6' '125/2' '160' '236/6' '177' '289' '279/8' '211/9' '152/9' '312/1'\n",
      " '215' '210' '210/8' '142' '322/4' '185/6' '326' '188/4' '312' '260'\n",
      " '260/2' '195' '290/7' '101/1' '288/4' '133/3' '176/4' '241/3' '134/1'\n",
      " '193' '216/4' '299/6' '186/3' '108/3' '137/0' '209/3' '309/8' '334/9'\n",
      " '230/4' '248/8' '273/9' '280' '173/3' '316' '266' '213/2' '247' '131/1'\n",
      " '212/6' '322/3' '247/8' '245/6' '333/8' '212' '259/9' '200' '241/4' '143'\n",
      " '206/1' '230/7' '306/5' '315/9' '288' '265/3' '315' '226/2' '241']\n",
      "Number of missing values in the 'score_second' column: 14\n"
     ]
    }
   ],
   "source": [
    "# To see the unique values\n",
    "unique_values = cwc['score_second'].unique()\n",
    "print(\"Unique values in the 'score_second' column:\")\n",
    "print(unique_values)\n",
    "\n",
    "# To check for missing values\n",
    "missing_values = cwc['score_second'].isnull().sum()\n",
    "print(f\"Number of missing values in the 'score_second' column: {missing_values}\")"
   ]
  },
  {
   "cell_type": "code",
   "execution_count": 57,
   "id": "7c7fcc61",
   "metadata": {},
   "outputs": [],
   "source": [
    "cwc['score_second'].replace({'24-Jan': 0, pd.NA: 0}, inplace=True)"
   ]
  },
  {
   "cell_type": "code",
   "execution_count": 58,
   "id": "64cd9528",
   "metadata": {},
   "outputs": [
    {
     "data": {
      "text/plain": [
       "array(['132/3', '128/8', '205', '87/1', '186', '123/0', '276/4', '267/9',\n",
       "       '195/3', '138', '94', '233/6', '94/6', '159/5', '274', '194/1',\n",
       "       '190/1', '160/4', '140/2', 0, '183/2', '197', '46/2', '151', '191',\n",
       "       '212/9', '106/3', '250', '194', '216', '288/9', '226/7', '228',\n",
       "       '286', '157/5', '158', '218/2', '199/2', '209/5', '238/8', '224',\n",
       "       '240', '233/3', '184/7', '276/3', '235', '137/1', '129', '172/0',\n",
       "       '217/4', '188/2', '140', '252', '269', '246/8', '239', '221',\n",
       "       '139', '169/4', '236/8', '217/9', '136/2', '158/8', '196/9',\n",
       "       '247/3', '211/8', '233', '228/6', '184/8', '194/3', '234', '196/6',\n",
       "       '219/2', '230/9', '224/1', '249', '219', '211', '227', '313/7',\n",
       "       '221/0', '210/4', '171/1', '201/7', '191/3', '189/7', '198/7',\n",
       "       '105/7', '173', '136', '173/2', '104/1', '190/3', '206/5', '173/8',\n",
       "       '174', '195/5', '164/3', '172', '231/6', '177/9', '137', '201/3',\n",
       "       '181/4', '216/6', '167/3', '125', '159', '264/6', '232/6', '228/9',\n",
       "       '152/8', '155/4', '188/7', '203/3', '178/5', '229/4', '174/5',\n",
       "       '230/6', '207/7', '112/1', '152', '151/2', '137/5', '167/9', '242',\n",
       "       '93', '243/5', '158/2', '220/3', '272/4', '250/3', '168/8', '207',\n",
       "       '254/7', '236/5', '248/9', '245', '289/4', '120/8', '202', '245/3',\n",
       "       '207/2', '254/6', '231/5', '182/4', '117/4', '204/1', '110', '167',\n",
       "       '214/5', '183/3', '103', '198/6', '235/7', '265', '163', '158/3',\n",
       "       '168/3', '153/3', '181/3', '70/2', '207/8', '169', '185', '111/4',\n",
       "       '161', '123/4', '221/7', '70/3', '180', '259/6', '213/8', '123',\n",
       "       '253/5', '272/5', '242/1', '213', '133/2', '275/9', '104/5', '225',\n",
       "       '120', '142/0', '126/0', '128/1', '144/4', '84', '229/1', '32/2',\n",
       "       '37/1', '122', '109/0', '134', '206/3', '130', '157', '248/3',\n",
       "       '156', '199/3', '168', '45', '136/5', '202/9', '222/9', '208/8',\n",
       "       '197/5', '229/6', '104', '223', '226/4', '253/4', '109', '112',\n",
       "       '135/3', '150/3', '182', '123/7', '179', '187', '131', '78',\n",
       "       '132/9', '192/5', '133/7', '228/7', '204/4', '188/3', '183', '99',\n",
       "       '190/2', '294', '178/3', '96/3', '179/3', '218', '106/0', '190',\n",
       "       '178/1', '165/3', '233/8', '184', '289/9', '147/6', '222/4',\n",
       "       '92/1', '196/5', '232/3', '157/1', '81/2', '133', '301/9', '208',\n",
       "       '215/8', '283/9', '72/0', '171', '296/4', '223/3', '207/3', '178',\n",
       "       '266/9', '338/8', '115', '146/1', '329/7', '166/0', '59/1', '165',\n",
       "       '210/5', '199/5', '192', '191/5', '188', '231', '227/8', '300/7',\n",
       "       '261/9', '166/4', '141', '212/3', '307/4', '153', '178/6', '147',\n",
       "       '113/0', '261/5', '231/0', '220/5', '277/4', '277', '307/6',\n",
       "       '146/7', '162', '286/6', '125/2', '160', '236/6', '177', '289',\n",
       "       '279/8', '211/9', '152/9', '312/1', '215', '210', '210/8', '142',\n",
       "       '322/4', '185/6', '326', '188/4', '312', '260', '260/2', '195',\n",
       "       '290/7', '101/1', '288/4', '133/3', '176/4', '241/3', '134/1',\n",
       "       '193', '216/4', '299/6', '186/3', '108/3', '137/0', '209/3',\n",
       "       '309/8', '334/9', '230/4', '248/8', '273/9', '280', '173/3', '316',\n",
       "       '266', '213/2', '247', '131/1', '212/6', '322/3', '247/8', '245/6',\n",
       "       '333/8', '212', '259/9', '200', '241/4', '143', '206/1', '230/7',\n",
       "       '306/5', '315/9', '288', '265/3', '315', '226/2', '241'],\n",
       "      dtype=object)"
      ]
     },
     "execution_count": 58,
     "metadata": {},
     "output_type": "execute_result"
    }
   ],
   "source": [
    "cwc['score_second'].unique()"
   ]
  },
  {
   "cell_type": "code",
   "execution_count": 59,
   "id": "23fe1f40",
   "metadata": {},
   "outputs": [
    {
     "ename": "TypeError",
     "evalue": "argument of type 'int' is not iterable",
     "output_type": "error",
     "traceback": [
      "\u001b[1;31m---------------------------------------------------------------------------\u001b[0m",
      "\u001b[1;31mTypeError\u001b[0m                                 Traceback (most recent call last)",
      "Input \u001b[1;32mIn [59]\u001b[0m, in \u001b[0;36m<cell line: 2>\u001b[1;34m()\u001b[0m\n\u001b[0;32m      1\u001b[0m \u001b[38;5;66;03m# removing the '/xx' part\u001b[39;00m\n\u001b[1;32m----> 2\u001b[0m cwc[\u001b[38;5;124m'\u001b[39m\u001b[38;5;124mscore_second\u001b[39m\u001b[38;5;124m'\u001b[39m] \u001b[38;5;241m=\u001b[39m \u001b[43mcwc\u001b[49m\u001b[43m[\u001b[49m\u001b[38;5;124;43m'\u001b[39;49m\u001b[38;5;124;43mscore_second\u001b[39;49m\u001b[38;5;124;43m'\u001b[39;49m\u001b[43m]\u001b[49m\u001b[38;5;241;43m.\u001b[39;49m\u001b[43mapply\u001b[49m\u001b[43m(\u001b[49m\u001b[38;5;28;43;01mlambda\u001b[39;49;00m\u001b[43m \u001b[49m\u001b[43mx\u001b[49m\u001b[43m:\u001b[49m\u001b[43m \u001b[49m\u001b[43mx\u001b[49m\u001b[38;5;241;43m.\u001b[39;49m\u001b[43msplit\u001b[49m\u001b[43m(\u001b[49m\u001b[38;5;124;43m'\u001b[39;49m\u001b[38;5;124;43m/\u001b[39;49m\u001b[38;5;124;43m'\u001b[39;49m\u001b[43m)\u001b[49m\u001b[43m[\u001b[49m\u001b[38;5;241;43m0\u001b[39;49m\u001b[43m]\u001b[49m\u001b[43m \u001b[49m\u001b[38;5;28;43;01mif\u001b[39;49;00m\u001b[43m \u001b[49m\u001b[38;5;124;43m'\u001b[39;49m\u001b[38;5;124;43m/\u001b[39;49m\u001b[38;5;124;43m'\u001b[39;49m\u001b[43m \u001b[49m\u001b[38;5;129;43;01min\u001b[39;49;00m\u001b[43m \u001b[49m\u001b[43mx\u001b[49m\u001b[43m \u001b[49m\u001b[38;5;28;43;01melse\u001b[39;49;00m\u001b[43m \u001b[49m\u001b[43mx\u001b[49m\u001b[43m)\u001b[49m\n",
      "File \u001b[1;32mD:\\Anaconda1\\lib\\site-packages\\pandas\\core\\series.py:4433\u001b[0m, in \u001b[0;36mSeries.apply\u001b[1;34m(self, func, convert_dtype, args, **kwargs)\u001b[0m\n\u001b[0;32m   4323\u001b[0m \u001b[38;5;28;01mdef\u001b[39;00m \u001b[38;5;21mapply\u001b[39m(\n\u001b[0;32m   4324\u001b[0m     \u001b[38;5;28mself\u001b[39m,\n\u001b[0;32m   4325\u001b[0m     func: AggFuncType,\n\u001b[1;32m   (...)\u001b[0m\n\u001b[0;32m   4328\u001b[0m     \u001b[38;5;241m*\u001b[39m\u001b[38;5;241m*\u001b[39mkwargs,\n\u001b[0;32m   4329\u001b[0m ) \u001b[38;5;241m-\u001b[39m\u001b[38;5;241m>\u001b[39m DataFrame \u001b[38;5;241m|\u001b[39m Series:\n\u001b[0;32m   4330\u001b[0m \u001b[38;5;250m    \u001b[39m\u001b[38;5;124;03m\"\"\"\u001b[39;00m\n\u001b[0;32m   4331\u001b[0m \u001b[38;5;124;03m    Invoke function on values of Series.\u001b[39;00m\n\u001b[0;32m   4332\u001b[0m \n\u001b[1;32m   (...)\u001b[0m\n\u001b[0;32m   4431\u001b[0m \u001b[38;5;124;03m    dtype: float64\u001b[39;00m\n\u001b[0;32m   4432\u001b[0m \u001b[38;5;124;03m    \"\"\"\u001b[39;00m\n\u001b[1;32m-> 4433\u001b[0m     \u001b[38;5;28;01mreturn\u001b[39;00m \u001b[43mSeriesApply\u001b[49m\u001b[43m(\u001b[49m\u001b[38;5;28;43mself\u001b[39;49m\u001b[43m,\u001b[49m\u001b[43m \u001b[49m\u001b[43mfunc\u001b[49m\u001b[43m,\u001b[49m\u001b[43m \u001b[49m\u001b[43mconvert_dtype\u001b[49m\u001b[43m,\u001b[49m\u001b[43m \u001b[49m\u001b[43margs\u001b[49m\u001b[43m,\u001b[49m\u001b[43m \u001b[49m\u001b[43mkwargs\u001b[49m\u001b[43m)\u001b[49m\u001b[38;5;241;43m.\u001b[39;49m\u001b[43mapply\u001b[49m\u001b[43m(\u001b[49m\u001b[43m)\u001b[49m\n",
      "File \u001b[1;32mD:\\Anaconda1\\lib\\site-packages\\pandas\\core\\apply.py:1082\u001b[0m, in \u001b[0;36mSeriesApply.apply\u001b[1;34m(self)\u001b[0m\n\u001b[0;32m   1078\u001b[0m \u001b[38;5;28;01mif\u001b[39;00m \u001b[38;5;28misinstance\u001b[39m(\u001b[38;5;28mself\u001b[39m\u001b[38;5;241m.\u001b[39mf, \u001b[38;5;28mstr\u001b[39m):\n\u001b[0;32m   1079\u001b[0m     \u001b[38;5;66;03m# if we are a string, try to dispatch\u001b[39;00m\n\u001b[0;32m   1080\u001b[0m     \u001b[38;5;28;01mreturn\u001b[39;00m \u001b[38;5;28mself\u001b[39m\u001b[38;5;241m.\u001b[39mapply_str()\n\u001b[1;32m-> 1082\u001b[0m \u001b[38;5;28;01mreturn\u001b[39;00m \u001b[38;5;28;43mself\u001b[39;49m\u001b[38;5;241;43m.\u001b[39;49m\u001b[43mapply_standard\u001b[49m\u001b[43m(\u001b[49m\u001b[43m)\u001b[49m\n",
      "File \u001b[1;32mD:\\Anaconda1\\lib\\site-packages\\pandas\\core\\apply.py:1137\u001b[0m, in \u001b[0;36mSeriesApply.apply_standard\u001b[1;34m(self)\u001b[0m\n\u001b[0;32m   1131\u001b[0m         values \u001b[38;5;241m=\u001b[39m obj\u001b[38;5;241m.\u001b[39mastype(\u001b[38;5;28mobject\u001b[39m)\u001b[38;5;241m.\u001b[39m_values\n\u001b[0;32m   1132\u001b[0m         \u001b[38;5;66;03m# error: Argument 2 to \"map_infer\" has incompatible type\u001b[39;00m\n\u001b[0;32m   1133\u001b[0m         \u001b[38;5;66;03m# \"Union[Callable[..., Any], str, List[Union[Callable[..., Any], str]],\u001b[39;00m\n\u001b[0;32m   1134\u001b[0m         \u001b[38;5;66;03m# Dict[Hashable, Union[Union[Callable[..., Any], str],\u001b[39;00m\n\u001b[0;32m   1135\u001b[0m         \u001b[38;5;66;03m# List[Union[Callable[..., Any], str]]]]]\"; expected\u001b[39;00m\n\u001b[0;32m   1136\u001b[0m         \u001b[38;5;66;03m# \"Callable[[Any], Any]\"\u001b[39;00m\n\u001b[1;32m-> 1137\u001b[0m         mapped \u001b[38;5;241m=\u001b[39m \u001b[43mlib\u001b[49m\u001b[38;5;241;43m.\u001b[39;49m\u001b[43mmap_infer\u001b[49m\u001b[43m(\u001b[49m\n\u001b[0;32m   1138\u001b[0m \u001b[43m            \u001b[49m\u001b[43mvalues\u001b[49m\u001b[43m,\u001b[49m\n\u001b[0;32m   1139\u001b[0m \u001b[43m            \u001b[49m\u001b[43mf\u001b[49m\u001b[43m,\u001b[49m\u001b[43m  \u001b[49m\u001b[38;5;66;43;03m# type: ignore[arg-type]\u001b[39;49;00m\n\u001b[0;32m   1140\u001b[0m \u001b[43m            \u001b[49m\u001b[43mconvert\u001b[49m\u001b[38;5;241;43m=\u001b[39;49m\u001b[38;5;28;43mself\u001b[39;49m\u001b[38;5;241;43m.\u001b[39;49m\u001b[43mconvert_dtype\u001b[49m\u001b[43m,\u001b[49m\n\u001b[0;32m   1141\u001b[0m \u001b[43m        \u001b[49m\u001b[43m)\u001b[49m\n\u001b[0;32m   1143\u001b[0m \u001b[38;5;28;01mif\u001b[39;00m \u001b[38;5;28mlen\u001b[39m(mapped) \u001b[38;5;129;01mand\u001b[39;00m \u001b[38;5;28misinstance\u001b[39m(mapped[\u001b[38;5;241m0\u001b[39m], ABCSeries):\n\u001b[0;32m   1144\u001b[0m     \u001b[38;5;66;03m# GH#43986 Need to do list(mapped) in order to get treated as nested\u001b[39;00m\n\u001b[0;32m   1145\u001b[0m     \u001b[38;5;66;03m#  See also GH#25959 regarding EA support\u001b[39;00m\n\u001b[0;32m   1146\u001b[0m     \u001b[38;5;28;01mreturn\u001b[39;00m obj\u001b[38;5;241m.\u001b[39m_constructor_expanddim(\u001b[38;5;28mlist\u001b[39m(mapped), index\u001b[38;5;241m=\u001b[39mobj\u001b[38;5;241m.\u001b[39mindex)\n",
      "File \u001b[1;32mD:\\Anaconda1\\lib\\site-packages\\pandas\\_libs\\lib.pyx:2870\u001b[0m, in \u001b[0;36mpandas._libs.lib.map_infer\u001b[1;34m()\u001b[0m\n",
      "Input \u001b[1;32mIn [59]\u001b[0m, in \u001b[0;36m<lambda>\u001b[1;34m(x)\u001b[0m\n\u001b[0;32m      1\u001b[0m \u001b[38;5;66;03m# removing the '/xx' part\u001b[39;00m\n\u001b[1;32m----> 2\u001b[0m cwc[\u001b[38;5;124m'\u001b[39m\u001b[38;5;124mscore_second\u001b[39m\u001b[38;5;124m'\u001b[39m] \u001b[38;5;241m=\u001b[39m cwc[\u001b[38;5;124m'\u001b[39m\u001b[38;5;124mscore_second\u001b[39m\u001b[38;5;124m'\u001b[39m]\u001b[38;5;241m.\u001b[39mapply(\u001b[38;5;28;01mlambda\u001b[39;00m x: x\u001b[38;5;241m.\u001b[39msplit(\u001b[38;5;124m'\u001b[39m\u001b[38;5;124m/\u001b[39m\u001b[38;5;124m'\u001b[39m)[\u001b[38;5;241m0\u001b[39m] \u001b[38;5;28;01mif\u001b[39;00m \u001b[38;5;124;43m'\u001b[39;49m\u001b[38;5;124;43m/\u001b[39;49m\u001b[38;5;124;43m'\u001b[39;49m\u001b[43m \u001b[49m\u001b[38;5;129;43;01min\u001b[39;49;00m\u001b[43m \u001b[49m\u001b[43mx\u001b[49m \u001b[38;5;28;01melse\u001b[39;00m x)\n",
      "\u001b[1;31mTypeError\u001b[0m: argument of type 'int' is not iterable"
     ]
    }
   ],
   "source": [
    "# removing the '/xx' part\n",
    "cwc['score_second'] = cwc['score_second'].apply(lambda x: x.split('/')[0] if '/' in x else x)"
   ]
  },
  {
   "cell_type": "code",
   "execution_count": 60,
   "id": "71d8cd37",
   "metadata": {},
   "outputs": [],
   "source": [
    "cwc['score_second'] = cwc['score_second'].apply(lambda x: x.split('/')[0] if isinstance(x, str) and '/' in x else x)"
   ]
  },
  {
   "cell_type": "code",
   "execution_count": 61,
   "id": "65452908",
   "metadata": {},
   "outputs": [
    {
     "data": {
      "text/plain": [
       "array(['132', '128', '205', '87', '186', '123', '276', '267', '195',\n",
       "       '138', '94', '233', '159', '274', '194', '190', '160', '140', 0,\n",
       "       '183', '197', '46', '151', '191', '212', '106', '250', '216',\n",
       "       '288', '226', '228', '286', '157', '158', '218', '199', '209',\n",
       "       '238', '224', '240', '184', '235', '137', '129', '172', '217',\n",
       "       '188', '252', '269', '246', '239', '221', '139', '169', '236',\n",
       "       '136', '196', '247', '211', '234', '219', '230', '249', '227',\n",
       "       '313', '210', '171', '201', '189', '198', '105', '173', '104',\n",
       "       '206', '174', '164', '231', '177', '181', '167', '125', '264',\n",
       "       '232', '152', '155', '203', '178', '229', '207', '112', '242',\n",
       "       '93', '243', '220', '272', '168', '254', '248', '245', '289',\n",
       "       '120', '202', '182', '117', '204', '110', '214', '103', '265',\n",
       "       '163', '153', '70', '185', '111', '161', '180', '259', '213',\n",
       "       '253', '133', '275', '225', '142', '126', '144', '84', '32', '37',\n",
       "       '122', '109', '134', '130', '156', '45', '222', '208', '223',\n",
       "       '135', '150', '179', '187', '131', '78', '192', '99', '294', '96',\n",
       "       '165', '147', '92', '81', '301', '215', '283', '72', '296', '266',\n",
       "       '338', '115', '146', '329', '166', '59', '300', '261', '141',\n",
       "       '307', '113', '277', '162', '279', '312', '322', '326', '260',\n",
       "       '290', '101', '176', '241', '193', '299', '108', '309', '334',\n",
       "       '273', '280', '316', '333', '200', '143', '306', '315'],\n",
       "      dtype=object)"
      ]
     },
     "execution_count": 61,
     "metadata": {},
     "output_type": "execute_result"
    }
   ],
   "source": [
    "cwc['score_second'].unique()"
   ]
  },
  {
   "cell_type": "code",
   "execution_count": 63,
   "id": "2d7b9371",
   "metadata": {},
   "outputs": [],
   "source": [
    "cwc['score_second'] = pd.to_numeric(cwc['score_second'], errors='coerce').astype(int)"
   ]
  },
  {
   "cell_type": "code",
   "execution_count": 64,
   "id": "45f707e5",
   "metadata": {},
   "outputs": [
    {
     "data": {
      "text/plain": [
       "array([132, 128, 205,  87, 186, 123, 276, 267, 195, 138,  94, 233, 159,\n",
       "       274, 194, 190, 160, 140,   0, 183, 197,  46, 151, 191, 212, 106,\n",
       "       250, 216, 288, 226, 228, 286, 157, 158, 218, 199, 209, 238, 224,\n",
       "       240, 184, 235, 137, 129, 172, 217, 188, 252, 269, 246, 239, 221,\n",
       "       139, 169, 236, 136, 196, 247, 211, 234, 219, 230, 249, 227, 313,\n",
       "       210, 171, 201, 189, 198, 105, 173, 104, 206, 174, 164, 231, 177,\n",
       "       181, 167, 125, 264, 232, 152, 155, 203, 178, 229, 207, 112, 242,\n",
       "        93, 243, 220, 272, 168, 254, 248, 245, 289, 120, 202, 182, 117,\n",
       "       204, 110, 214, 103, 265, 163, 153,  70, 185, 111, 161, 180, 259,\n",
       "       213, 253, 133, 275, 225, 142, 126, 144,  84,  32,  37, 122, 109,\n",
       "       134, 130, 156,  45, 222, 208, 223, 135, 150, 179, 187, 131,  78,\n",
       "       192,  99, 294,  96, 165, 147,  92,  81, 301, 215, 283,  72, 296,\n",
       "       266, 338, 115, 146, 329, 166,  59, 300, 261, 141, 307, 113, 277,\n",
       "       162, 279, 312, 322, 326, 260, 290, 101, 176, 241, 193, 299, 108,\n",
       "       309, 334, 273, 280, 316, 333, 200, 143, 306, 315])"
      ]
     },
     "execution_count": 64,
     "metadata": {},
     "output_type": "execute_result"
    }
   ],
   "source": [
    "cwc['score_second'].unique()"
   ]
  },
  {
   "cell_type": "code",
   "execution_count": 65,
   "id": "bcda2185",
   "metadata": {},
   "outputs": [
    {
     "data": {
      "text/plain": [
       "dtype('int32')"
      ]
     },
     "execution_count": 65,
     "metadata": {},
     "output_type": "execute_result"
    }
   ],
   "source": [
    "cwc['score_second'].dtype"
   ]
  },
  {
   "cell_type": "code",
   "execution_count": 66,
   "id": "f55a5bcf",
   "metadata": {},
   "outputs": [],
   "source": [
    "cwc['score_first'].replace({pd.NA: 0}, inplace=True)"
   ]
  },
  {
   "cell_type": "code",
   "execution_count": 67,
   "id": "81667eb3",
   "metadata": {},
   "outputs": [],
   "source": [
    "cwc['score_first'] = cwc['score_first'].apply(lambda x: x.split('/')[0] if isinstance(x, str) and '/' in x else x)"
   ]
  },
  {
   "cell_type": "code",
   "execution_count": 68,
   "id": "c292ca7d",
   "metadata": {},
   "outputs": [
    {
     "data": {
      "text/plain": [
       "array(['334', '309', '278', '86', '266', '120', '328', '192', '330',\n",
       "       '290', '230', '93', '158', '291', '190', '189', '159', '139', 0,\n",
       "       '182', '286', '45', '165', '238', '244', '105', '221', '293',\n",
       "       '322', '338', '239', '262', '333', '252', '155', '320', '217',\n",
       "       '193', '206', '234', '282', '235', '272', '232', '181', '273',\n",
       "       '136', '261', '247', '171', '213', '184', '183', '267', '270',\n",
       "       '243', '242', '360', '216', '135', '296', '199', '236', '289',\n",
       "       '227', '297', '269', '191', '251', '218', '258', '254', '253',\n",
       "       '248', '312', '220', '170', '157', '1', '264', '237', '74', '195',\n",
       "       '162', '200', '203', '211', '280', '197', '163', '268', '265',\n",
       "       '180', '212', '166', '134', '249', '321', '151', '307', '177',\n",
       "       '228', '173', '279', '304', '109', '145', '276', '154', '271',\n",
       "       '229', '398', '281', '287', '207', '241', '204', '116', '225',\n",
       "       '329', '275', '185', '156', '167', '152', '373', '178', '68',\n",
       "       '233', '110', '223', '121', '175', '303', '132', '340', '310',\n",
       "       '140', '124', '125', '142', '255', '306', '36', '108', '246',\n",
       "       '202', '311', '210', '198', '250', '301', '196', '314', '73',\n",
       "       '319', '292', '208', '133', '146', '256', '174', '359', '353',\n",
       "       '209', '358', '413', '186', '331', '318', '349', '363', '377',\n",
       "       '94', '104', '263', '356', '143', '219', '91', '226', '77', '348',\n",
       "       '300', '149', '370', '69', '332', '317', '222', '205', '277',\n",
       "       '298', '327', '351', '58', '302', '324', '160', '284', '176',\n",
       "       '308', '112', '260', '274', '342', '339', '285', '123', '372',\n",
       "       '408', '102', '411', '417', '376', '259', '341', '288', '111',\n",
       "       '130', '393', '201', '386', '172', '352', '29', '336', '397',\n",
       "       '381', '224', '337', '305', '315', '325'], dtype=object)"
      ]
     },
     "execution_count": 68,
     "metadata": {},
     "output_type": "execute_result"
    }
   ],
   "source": [
    "cwc['score_first'].unique()"
   ]
  },
  {
   "cell_type": "code",
   "execution_count": 69,
   "id": "984a539c",
   "metadata": {},
   "outputs": [],
   "source": [
    "cwc['score_first'] = pd.to_numeric(cwc['score_first'], errors='coerce').astype(int)"
   ]
  },
  {
   "cell_type": "code",
   "execution_count": 70,
   "id": "dfc3a58a",
   "metadata": {},
   "outputs": [
    {
     "data": {
      "text/plain": [
       "array([334, 309, 278,  86, 266, 120, 328, 192, 330, 290, 230,  93, 158,\n",
       "       291, 190, 189, 159, 139,   0, 182, 286,  45, 165, 238, 244, 105,\n",
       "       221, 293, 322, 338, 239, 262, 333, 252, 155, 320, 217, 193, 206,\n",
       "       234, 282, 235, 272, 232, 181, 273, 136, 261, 247, 171, 213, 184,\n",
       "       183, 267, 270, 243, 242, 360, 216, 135, 296, 199, 236, 289, 227,\n",
       "       297, 269, 191, 251, 218, 258, 254, 253, 248, 312, 220, 170, 157,\n",
       "         1, 264, 237,  74, 195, 162, 200, 203, 211, 280, 197, 163, 268,\n",
       "       265, 180, 212, 166, 134, 249, 321, 151, 307, 177, 228, 173, 279,\n",
       "       304, 109, 145, 276, 154, 271, 229, 398, 281, 287, 207, 241, 204,\n",
       "       116, 225, 329, 275, 185, 156, 167, 152, 373, 178,  68, 233, 110,\n",
       "       223, 121, 175, 303, 132, 340, 310, 140, 124, 125, 142, 255, 306,\n",
       "        36, 108, 246, 202, 311, 210, 198, 250, 301, 196, 314,  73, 319,\n",
       "       292, 208, 133, 146, 256, 174, 359, 353, 209, 358, 413, 186, 331,\n",
       "       318, 349, 363, 377,  94, 104, 263, 356, 143, 219,  91, 226,  77,\n",
       "       348, 300, 149, 370,  69, 332, 317, 222, 205, 277, 298, 327, 351,\n",
       "        58, 302, 324, 160, 284, 176, 308, 112, 260, 274, 342, 339, 285,\n",
       "       123, 372, 408, 102, 411, 417, 376, 259, 341, 288, 111, 130, 393,\n",
       "       201, 386, 172, 352,  29, 336, 397, 381, 224, 337, 305, 315, 325])"
      ]
     },
     "execution_count": 70,
     "metadata": {},
     "output_type": "execute_result"
    }
   ],
   "source": [
    "cwc['score_first'].unique()"
   ]
  },
  {
   "cell_type": "code",
   "execution_count": 71,
   "id": "b1ec88ae",
   "metadata": {},
   "outputs": [
    {
     "data": {
      "text/plain": [
       "dtype('int32')"
      ]
     },
     "execution_count": 71,
     "metadata": {},
     "output_type": "execute_result"
    }
   ],
   "source": [
    "cwc['score_first'].dtype"
   ]
  },
  {
   "cell_type": "code",
   "execution_count": 72,
   "id": "c4c0b05f",
   "metadata": {},
   "outputs": [
    {
     "data": {
      "text/html": [
       "<div>\n",
       "<style scoped>\n",
       "    .dataframe tbody tr th:only-of-type {\n",
       "        vertical-align: middle;\n",
       "    }\n",
       "\n",
       "    .dataframe tbody tr th {\n",
       "        vertical-align: top;\n",
       "    }\n",
       "\n",
       "    .dataframe thead th {\n",
       "        text-align: right;\n",
       "    }\n",
       "</style>\n",
       "<table border=\"1\" class=\"dataframe\">\n",
       "  <thead>\n",
       "    <tr style=\"text-align: right;\">\n",
       "      <th></th>\n",
       "      <th>Year</th>\n",
       "      <th>bat_first</th>\n",
       "      <th>score_first</th>\n",
       "      <th>bat_second</th>\n",
       "      <th>score_second</th>\n",
       "      <th>result</th>\n",
       "    </tr>\n",
       "  </thead>\n",
       "  <tbody>\n",
       "    <tr>\n",
       "      <th>0</th>\n",
       "      <td>1975</td>\n",
       "      <td>ENG</td>\n",
       "      <td>334</td>\n",
       "      <td>IND</td>\n",
       "      <td>132</td>\n",
       "      <td>England won by 202 runs</td>\n",
       "    </tr>\n",
       "    <tr>\n",
       "      <th>1</th>\n",
       "      <td>1975</td>\n",
       "      <td>NZ</td>\n",
       "      <td>309</td>\n",
       "      <td>EAS</td>\n",
       "      <td>128</td>\n",
       "      <td>New Zealand won by 181 runs</td>\n",
       "    </tr>\n",
       "    <tr>\n",
       "      <th>2</th>\n",
       "      <td>1975</td>\n",
       "      <td>AUS</td>\n",
       "      <td>278</td>\n",
       "      <td>PAK</td>\n",
       "      <td>205</td>\n",
       "      <td>Australia won by 73 runs</td>\n",
       "    </tr>\n",
       "    <tr>\n",
       "      <th>3</th>\n",
       "      <td>1975</td>\n",
       "      <td>SL</td>\n",
       "      <td>86</td>\n",
       "      <td>WI</td>\n",
       "      <td>87</td>\n",
       "      <td>West Indies won by 9 wickets (with 236 balls r...</td>\n",
       "    </tr>\n",
       "    <tr>\n",
       "      <th>4</th>\n",
       "      <td>1975</td>\n",
       "      <td>ENG</td>\n",
       "      <td>266</td>\n",
       "      <td>NZ</td>\n",
       "      <td>186</td>\n",
       "      <td>England won by 80 runs</td>\n",
       "    </tr>\n",
       "  </tbody>\n",
       "</table>\n",
       "</div>"
      ],
      "text/plain": [
       "   Year bat_first  score_first bat_second  score_second  \\\n",
       "0  1975       ENG          334        IND           132   \n",
       "1  1975        NZ          309        EAS           128   \n",
       "2  1975       AUS          278        PAK           205   \n",
       "3  1975        SL           86         WI            87   \n",
       "4  1975       ENG          266         NZ           186   \n",
       "\n",
       "                                              result  \n",
       "0                            England won by 202 runs  \n",
       "1                        New Zealand won by 181 runs  \n",
       "2                           Australia won by 73 runs  \n",
       "3  West Indies won by 9 wickets (with 236 balls r...  \n",
       "4                             England won by 80 runs  "
      ]
     },
     "execution_count": 72,
     "metadata": {},
     "output_type": "execute_result"
    }
   ],
   "source": [
    "cwc.head()"
   ]
  },
  {
   "cell_type": "code",
   "execution_count": 73,
   "id": "f21e116a",
   "metadata": {},
   "outputs": [
    {
     "data": {
      "text/plain": [
       "0"
      ]
     },
     "execution_count": 73,
     "metadata": {},
     "output_type": "execute_result"
    }
   ],
   "source": [
    "cwc['score_first'].isnull().sum()"
   ]
  },
  {
   "cell_type": "code",
   "execution_count": 74,
   "id": "bdf18644",
   "metadata": {},
   "outputs": [
    {
     "data": {
      "text/plain": [
       "0"
      ]
     },
     "execution_count": 74,
     "metadata": {},
     "output_type": "execute_result"
    }
   ],
   "source": [
    "cwc['score_second'].isnull().sum()"
   ]
  },
  {
   "cell_type": "code",
   "execution_count": 75,
   "id": "c3ab5e09",
   "metadata": {},
   "outputs": [
    {
     "data": {
      "text/plain": [
       "count    454.000000\n",
       "mean     233.500000\n",
       "std       79.770857\n",
       "min        0.000000\n",
       "25%      189.000000\n",
       "50%      239.000000\n",
       "75%      286.750000\n",
       "max      417.000000\n",
       "Name: score_first, dtype: float64"
      ]
     },
     "execution_count": 75,
     "metadata": {},
     "output_type": "execute_result"
    }
   ],
   "source": [
    "cwc['score_first'].describe()"
   ]
  },
  {
   "cell_type": "code",
   "execution_count": 76,
   "id": "cb181e6a",
   "metadata": {},
   "outputs": [
    {
     "data": {
      "text/plain": [
       "count    454.000000\n",
       "mean     189.889868\n",
       "std       66.932480\n",
       "min        0.000000\n",
       "25%      151.000000\n",
       "50%      197.000000\n",
       "75%      231.750000\n",
       "max      338.000000\n",
       "Name: score_second, dtype: float64"
      ]
     },
     "execution_count": 76,
     "metadata": {},
     "output_type": "execute_result"
    }
   ],
   "source": [
    "cwc['score_second'].describe()"
   ]
  },
  {
   "cell_type": "code",
   "execution_count": 77,
   "id": "8492e796",
   "metadata": {},
   "outputs": [
    {
     "data": {
      "image/png": "[encoded data removed]",
      "text/plain": [
       "<Figure size 720x432 with 1 Axes>"
      ]
     },
     "metadata": {
      "needs_background": "light"
     },
     "output_type": "display_data"
    },
    {
     "data": {
      "image/png": "[encoded data removed]",
      "text/plain": [
       "<Figure size 720x432 with 1 Axes>"
      ]
     },
     "metadata": {
      "needs_background": "light"
     },
     "output_type": "display_data"
    }
   ],
   "source": [
    "scores = cwc['score_first']\n",
    "\n",
    "# Create a distribution plot (KDE plot)\n",
    "plt.figure(figsize=(10, 6))\n",
    "sns.kdeplot(scores, shade=True, color='blue')\n",
    "plt.title('Distribution of Scores (score_first)')\n",
    "plt.xlabel('Score')\n",
    "plt.ylabel('Density')\n",
    "plt.show()\n",
    "\n",
    "# Create a histogram\n",
    "plt.figure(figsize=(10, 6))\n",
    "sns.histplot(scores, bins=20, color='green', kde=False)\n",
    "plt.title('Histogram of Scores (score_first)')\n",
    "plt.xlabel('Score')\n",
    "plt.ylabel('Frequency')\n",
    "plt.show()"
   ]
  },
  {
   "cell_type": "code",
   "execution_count": 78,
   "id": "f8f78882",
   "metadata": {},
   "outputs": [
    {
     "data": {
      "image/png": "[encoded data removed]",
      "text/plain": [
       "<Figure size 720x432 with 1 Axes>"
      ]
     },
     "metadata": {
      "needs_background": "light"
     },
     "output_type": "display_data"
    },
    {
     "data": {
      "image/png": "[encoded data removed]",
      "text/plain": [
       "<Figure size 720x432 with 1 Axes>"
      ]
     },
     "metadata": {
      "needs_background": "light"
     },
     "output_type": "display_data"
    }
   ],
   "source": [
    "scores1 = cwc['score_second']\n",
    "\n",
    "# Create a distribution plot (KDE plot)\n",
    "plt.figure(figsize=(10, 6))\n",
    "sns.kdeplot(scores1, shade=True, color='blue')\n",
    "plt.title('Distribution of Scores (score_second)')\n",
    "plt.xlabel('Score')\n",
    "plt.ylabel('Density')\n",
    "plt.show()\n",
    "\n",
    "# Create a histogram\n",
    "plt.figure(figsize=(10, 6))\n",
    "sns.histplot(scores1, bins=20, color='green', kde=False)\n",
    "plt.title('Histogram of Scores (score_second)')\n",
    "plt.xlabel('Score')\n",
    "plt.ylabel('Frequency')\n",
    "plt.show()"
   ]
  },
  {
   "cell_type": "code",
   "execution_count": 79,
   "id": "f4f1efa0",
   "metadata": {},
   "outputs": [],
   "source": [
    "cwc = cwc.rename(columns={'result': 'Winner'})"
   ]
  },
  {
   "cell_type": "code",
   "execution_count": 80,
   "id": "884a73cb",
   "metadata": {},
   "outputs": [
    {
     "data": {
      "text/html": [
       "<div>\n",
       "<style scoped>\n",
       "    .dataframe tbody tr th:only-of-type {\n",
       "        vertical-align: middle;\n",
       "    }\n",
       "\n",
       "    .dataframe tbody tr th {\n",
       "        vertical-align: top;\n",
       "    }\n",
       "\n",
       "    .dataframe thead th {\n",
       "        text-align: right;\n",
       "    }\n",
       "</style>\n",
       "<table border=\"1\" class=\"dataframe\">\n",
       "  <thead>\n",
       "    <tr style=\"text-align: right;\">\n",
       "      <th></th>\n",
       "      <th>Year</th>\n",
       "      <th>bat_first</th>\n",
       "      <th>score_first</th>\n",
       "      <th>bat_second</th>\n",
       "      <th>score_second</th>\n",
       "      <th>Winner</th>\n",
       "    </tr>\n",
       "  </thead>\n",
       "  <tbody>\n",
       "    <tr>\n",
       "      <th>0</th>\n",
       "      <td>1975</td>\n",
       "      <td>ENG</td>\n",
       "      <td>334</td>\n",
       "      <td>IND</td>\n",
       "      <td>132</td>\n",
       "      <td>England won by 202 runs</td>\n",
       "    </tr>\n",
       "    <tr>\n",
       "      <th>1</th>\n",
       "      <td>1975</td>\n",
       "      <td>NZ</td>\n",
       "      <td>309</td>\n",
       "      <td>EAS</td>\n",
       "      <td>128</td>\n",
       "      <td>New Zealand won by 181 runs</td>\n",
       "    </tr>\n",
       "    <tr>\n",
       "      <th>2</th>\n",
       "      <td>1975</td>\n",
       "      <td>AUS</td>\n",
       "      <td>278</td>\n",
       "      <td>PAK</td>\n",
       "      <td>205</td>\n",
       "      <td>Australia won by 73 runs</td>\n",
       "    </tr>\n",
       "    <tr>\n",
       "      <th>3</th>\n",
       "      <td>1975</td>\n",
       "      <td>SL</td>\n",
       "      <td>86</td>\n",
       "      <td>WI</td>\n",
       "      <td>87</td>\n",
       "      <td>West Indies won by 9 wickets (with 236 balls r...</td>\n",
       "    </tr>\n",
       "    <tr>\n",
       "      <th>4</th>\n",
       "      <td>1975</td>\n",
       "      <td>ENG</td>\n",
       "      <td>266</td>\n",
       "      <td>NZ</td>\n",
       "      <td>186</td>\n",
       "      <td>England won by 80 runs</td>\n",
       "    </tr>\n",
       "  </tbody>\n",
       "</table>\n",
       "</div>"
      ],
      "text/plain": [
       "   Year bat_first  score_first bat_second  score_second  \\\n",
       "0  1975       ENG          334        IND           132   \n",
       "1  1975        NZ          309        EAS           128   \n",
       "2  1975       AUS          278        PAK           205   \n",
       "3  1975        SL           86         WI            87   \n",
       "4  1975       ENG          266         NZ           186   \n",
       "\n",
       "                                              Winner  \n",
       "0                            England won by 202 runs  \n",
       "1                        New Zealand won by 181 runs  \n",
       "2                           Australia won by 73 runs  \n",
       "3  West Indies won by 9 wickets (with 236 balls r...  \n",
       "4                             England won by 80 runs  "
      ]
     },
     "execution_count": 80,
     "metadata": {},
     "output_type": "execute_result"
    }
   ],
   "source": [
    "cwc.head()"
   ]
  },
  {
   "cell_type": "code",
   "execution_count": 81,
   "id": "96bb9682",
   "metadata": {},
   "outputs": [
    {
     "data": {
      "text/plain": [
       "count           454\n",
       "unique          423\n",
       "top       No result\n",
       "freq              8\n",
       "Name: Winner, dtype: object"
      ]
     },
     "execution_count": 81,
     "metadata": {},
     "output_type": "execute_result"
    }
   ],
   "source": [
    "cwc['Winner'].describe()"
   ]
  },
  {
   "cell_type": "code",
   "execution_count": 82,
   "id": "8cbf8f16",
   "metadata": {},
   "outputs": [
    {
     "data": {
      "text/plain": [
       "0"
      ]
     },
     "execution_count": 82,
     "metadata": {},
     "output_type": "execute_result"
    }
   ],
   "source": [
    "cwc['Winner'].isnull().sum()"
   ]
  },
  {
   "cell_type": "code",
   "execution_count": 83,
   "id": "b24855d0",
   "metadata": {},
   "outputs": [
    {
     "data": {
      "text/plain": [
       "array(['England won by 202 runs', 'New Zealand won by 181 runs',\n",
       "       'Australia won by 73 runs',\n",
       "       'West Indies won by 9 wickets (with 236 balls remaining)',\n",
       "       'England won by 80 runs',\n",
       "       'India won by 10 wickets (with 181 balls remaining)',\n",
       "       'Australia won by 52 runs',\n",
       "       'West Indies won by 1 wicket (with 2 balls remaining)',\n",
       "       'West Indies won by 7 wickets (with 84 balls remaining)',\n",
       "       'Pakistan won by 192 runs', 'England won by 196 runs',\n",
       "       'New Zealand won by 4 wickets (with 7 balls remaining)',\n",
       "       'Australia won by 4 wickets (with 188 balls remaining)',\n",
       "       'West Indies won by 5 wickets (with 119 balls remaining)',\n",
       "       'West Indies won by 17 runs',\n",
       "       'West Indies won by 9 wickets (with 51 balls remaining)',\n",
       "       'New Zealand won by 9 wickets (with 74 balls remaining)',\n",
       "       'England won by 6 wickets (with 77 balls remaining)',\n",
       "       'Pakistan won by 8 wickets (with 119 balls remaining)',\n",
       "       'Match abandoned without a ball bowled',\n",
       "       'New Zealand won by 8 wickets (with 18 balls remaining)',\n",
       "       'Pakistan won by 89 runs',\n",
       "       'England won by 8 wickets (with 277 balls remaining)',\n",
       "       'England won by 14 runs', 'Sri Lanka won by 47 runs',\n",
       "       'West Indies won by 32 runs',\n",
       "       'Australia won by 7 wickets (with 204 balls remaining)',\n",
       "       'England won by 9 runs', 'West Indies won by 43 runs',\n",
       "       'West Indies won by 92 runs', 'England won by 106 runs',\n",
       "       'Pakistan won by 50 runs', 'Zimbabwe won by 13 runs',\n",
       "       'India won by 34 runs', 'England won by 47 runs',\n",
       "       'New Zealand won by 52 runs', 'West Indies won by 101 runs',\n",
       "       'India won by 5 wickets (with 135 balls remaining)',\n",
       "       'Australia won by 162 runs',\n",
       "       'West Indies won by 8 wickets (with 69 balls remaining)',\n",
       "       'England won by 8 wickets (with 56 balls remaining)',\n",
       "       'New Zealand won by 5 wickets (with 124 balls remaining)',\n",
       "       'New Zealand won by 2 wickets (with 1 ball remaining)',\n",
       "       'West Indies won by 66 runs', 'Pakistan won by 11 runs',\n",
       "       'Australia won by 32 runs',\n",
       "       'England won by 7 wickets (with 16 balls remaining)',\n",
       "       'Sri Lanka won by 3 wickets (with 43 balls remaining)',\n",
       "       'West Indies won by 7 wickets (with 13 balls remaining)',\n",
       "       'India won by 31 runs',\n",
       "       'England won by 9 wickets (with 215 balls remaining)',\n",
       "       'India won by 118 runs',\n",
       "       'West Indies won by 10 wickets (with 89 balls remaining)',\n",
       "       'India won by 6 wickets (with 32 balls remaining)',\n",
       "       'West Indies won by 8 wickets (with 68 balls remaining)',\n",
       "       'India won by 43 runs', 'Pakistan won by 15 runs',\n",
       "       'Australia won by 1 run',\n",
       "       'England won by 2 wickets (with 3 balls remaining)',\n",
       "       'New Zealand won by 3 runs', 'Pakistan won by 18 runs',\n",
       "       'Australia won by 96 runs', 'West Indies won by 191 runs',\n",
       "       'India won by 16 runs',\n",
       "       'Pakistan won by 1 wicket (with 0 balls remaining)',\n",
       "       'India won by 8 wickets (with 133 balls remaining)',\n",
       "       'England won by 108 runs (revised target)',\n",
       "       'Australia won by 3 runs',\n",
       "       'Pakistan won by 7 wickets (with 6 balls remaining)',\n",
       "       'West Indies won by 25 runs', 'India won by 56 runs',\n",
       "       'New Zealand won by 4 wickets (with 14 balls remaining)',\n",
       "       'Pakistan won by 113 runs', 'England won by 34 runs',\n",
       "       'India won by 7 wickets (with 48 balls remaining)',\n",
       "       'Australia won by 17 runs', 'Australia won by 70 runs',\n",
       "       'England won by 8 wickets (with 52 balls remaining)',\n",
       "       'West Indies won by 28 runs',\n",
       "       'India won by 9 wickets (with 107 balls remaining)',\n",
       "       'Australia won by 18 runs', 'England won by 35 runs',\n",
       "       'Australia won by 7 runs', 'New Zealand won by 37 runs',\n",
       "       'Sri Lanka won by 3 wickets (with 4 balls remaining)',\n",
       "       'West Indies won by 10 wickets (with 19 balls remaining)',\n",
       "       'New Zealand won by 6 wickets (with 10 balls remaining)',\n",
       "       'South Africa won by 9 wickets (with 13 balls remaining)',\n",
       "       'Pakistan won by 53 runs',\n",
       "       'England won by 6 wickets (with 61 balls remaining)', 'No result',\n",
       "       'New Zealand won by 7 wickets (with 93 balls remaining)',\n",
       "       'West Indies won by 75 runs',\n",
       "       'Australia won by 1 run (revised target)',\n",
       "       'Sri Lanka won by 3 wickets (with 1 ball remaining)',\n",
       "       'New Zealand won by 48 runs (revised target)',\n",
       "       'South Africa won by 64 runs',\n",
       "       'England won by 8 wickets (with 55 balls remaining)',\n",
       "       'India won by 55 runs (revised target)',\n",
       "       'Australia won by 7 wickets (with 36 balls remaining)',\n",
       "       'New Zealand won by 5 wickets (with 9 balls remaining)',\n",
       "       'South Africa won by 20 runs (revised target)',\n",
       "       'West Indies won by 5 wickets (with 34 balls remaining) (revised target)',\n",
       "       'South Africa won by 7 wickets (with 29 balls remaining)',\n",
       "       'Pakistan won by 48 runs',\n",
       "       'New Zealand won by 4 wickets (with 17 balls remaining)',\n",
       "       'England won by 3 wickets (with 1 ball remaining) (revised target)',\n",
       "       'West Indies won by 91 runs', 'Australia won by 128 runs',\n",
       "       'New Zealand won by 7 wickets (with 55 balls remaining)',\n",
       "       'South Africa won by 6 wickets (with 5 balls remaining)',\n",
       "       'Pakistan won by 4 wickets (with 5 balls remaining)',\n",
       "       'Pakistan won by 7 wickets (with 32 balls remaining)',\n",
       "       'Zimbabwe won by 9 runs', 'Australia won by 57 runs',\n",
       "       'Pakistan won by 4 wickets (with 6 balls remaining)',\n",
       "       'England won by 19 runs (revised target)',\n",
       "       'Pakistan won by 22 runs', 'New Zealand won by 11 runs',\n",
       "       'South Africa won by 169 runs',\n",
       "       'West Indies won by 6 wickets (with 123 balls remaining)',\n",
       "       'New Zealand won by 119 runs',\n",
       "       'Sri Lanka won (walkover without a ball bowled)',\n",
       "       'India won by 7 wickets (with 49 balls remaining)',\n",
       "       'England won by 8 wickets (with 90 balls remaining)',\n",
       "       'South Africa won by 5 wickets (with 75 balls remaining)',\n",
       "       'Sri Lanka won by 6 wickets (with 78 balls remaining)',\n",
       "       'India won by 5 wickets (with 62 balls remaining)',\n",
       "       'England won by 49 runs', 'Australia won by 97 runs',\n",
       "       'Pakistan won by 9 wickets (with 90 balls remaining)',\n",
       "       'South Africa won by 78 runs',\n",
       "       'Pakistan won by 8 wickets (with 116 balls remaining)',\n",
       "       'Zimbabwe won by 5 wickets (with 46 balls remaining)',\n",
       "       'New Zealand won by 109 runs', 'Australia won by 16 runs',\n",
       "       'Kenya won by 73 runs',\n",
       "       'South Africa won by 5 wickets (with 34 balls remaining)',\n",
       "       'Australia won by 8 wickets (with 84 balls remaining)',\n",
       "       'U.A.E. won by 7 wickets (with 34 balls remaining)',\n",
       "       'Sri Lanka won by 6 wickets (with 8 balls remaining)',\n",
       "       'Pakistan won by 7 wickets (with 14 balls remaining)',\n",
       "       'West Indies won by 4 wickets (with 7 balls remaining)',\n",
       "       'South Africa won by 160 runs', 'India won by 40 runs',\n",
       "       'Sri Lanka won by 144 runs', 'Pakistan won by 46 runs',\n",
       "       'Sri Lanka won by 5 wickets (with 56 balls remaining)',\n",
       "       'India won by 39 runs', 'West Indies won by 19 runs',\n",
       "       'Australia won by 6 wickets (with 13 balls remaining)',\n",
       "       'Sri Lanka won by default', 'Australia won by 5 runs',\n",
       "       'Sri Lanka won by 7 wickets (with 22 balls remaining)',\n",
       "       'England won by 8 wickets (with 19 balls remaining)',\n",
       "       'South Africa won by 4 wickets (with 16 balls remaining)',\n",
       "       'Zimbabwe won by 5 wickets (with 54 balls remaining)',\n",
       "       'Australia won by 6 wickets (with 31 balls remaining)',\n",
       "       'Pakistan won by 27 runs',\n",
       "       'New Zealand won by 6 wickets (with 102 balls remaining)',\n",
       "       'England won by 9 wickets (with 66 balls remaining)',\n",
       "       'Zimbabwe won by 3 runs', 'South Africa won by 89 runs',\n",
       "       'Pakistan won by 94 runs',\n",
       "       'New Zealand won by 5 wickets (with 28 balls remaining)',\n",
       "       'West Indies won by 7 wickets (with 21 balls remaining)',\n",
       "       'South Africa won by 122 runs',\n",
       "       'Sri Lanka won by 4 wickets (with 24 balls remaining)',\n",
       "       'India won by 94 runs', 'Pakistan won by 10 runs',\n",
       "       'Bangladesh won by 22 runs',\n",
       "       'West Indies won by 7 wickets (with 34 balls remaining)',\n",
       "       'England won by 7 wickets (with 69 balls remaining)',\n",
       "       'South Africa won by 7 wickets (with 54 balls remaining)',\n",
       "       'India won by 157 runs',\n",
       "       'Australia won by 7 wickets (with 181 balls remaining)',\n",
       "       'West Indies won by 8 wickets (with 239 balls remaining)',\n",
       "       'Pakistan won by 62 runs', 'India won by 63 runs',\n",
       "       'Zimbabwe won by 48 runs', 'Sri Lanka won by 45 runs',\n",
       "       'Australia won by 6 wickets (with 56 balls remaining)',\n",
       "       'Bangladesh won by 62 runs',\n",
       "       'New Zealand won by 6 wickets (with 193 balls remaining)',\n",
       "       'Australia won by 77 runs',\n",
       "       'South Africa won by 3 wickets (with 6 balls remaining)',\n",
       "       'India won by 47 runs', 'Australia won by 44 runs',\n",
       "       'South Africa won by 74 runs', 'Pakistan won by 148 runs',\n",
       "       'New Zealand won by 5 wickets (with 10 balls remaining)',\n",
       "       'Australia won by 5 wickets (with 2 balls remaining)',\n",
       "       'Pakistan won by 9 wickets (with 15 balls remaining)',\n",
       "       'Match tied',\n",
       "       'Australia won by 8 wickets (with 179 balls remaining)',\n",
       "       'West Indies won by 3 runs',\n",
       "       'Zimbabwe won by 86 runs (D/L method)', 'Australia won by 82 runs',\n",
       "       'Canada won by 60 runs',\n",
       "       'South Africa won by 10 wickets (with 172 balls remaining)',\n",
       "       'India won by 68 runs',\n",
       "       'Zimbabwe won (walkover without a ball bowled)',\n",
       "       'New Zealand won by 20 runs',\n",
       "       'Sri Lanka won by 10 wickets (with 173 balls remaining)',\n",
       "       'Australia won by 9 wickets (with 166 balls remaining)',\n",
       "       'Kenya won by 4 wickets (with 9 balls remaining)',\n",
       "       'England won by 6 wickets (with 160 balls remaining)',\n",
       "       'Pakistan won by 171 runs',\n",
       "       'New Zealand won by 9 wickets (with 13 balls remaining) (D/L method)',\n",
       "       'India won by 83 runs',\n",
       "       'Sri Lanka won by 9 wickets (with 272 balls remaining)',\n",
       "       'England won by 55 runs', 'Australia won by 75 runs (D/L method)',\n",
       "       'Kenya won (walkover without a ball bowled)',\n",
       "       'South Africa won by 10 wickets (with 228 balls remaining)',\n",
       "       'England won by 112 runs',\n",
       "       'West Indies won by 7 wickets (with 177 balls remaining)',\n",
       "       'India won by 181 runs', 'Kenya won by 53 runs',\n",
       "       'Australia won by 7 wickets (with 15 balls remaining)',\n",
       "       'Pakistan won by 97 runs',\n",
       "       'New Zealand won by 7 wickets (with 99 balls remaining)',\n",
       "       'India won by 82 runs', 'Australia won by 256 runs',\n",
       "       'South Africa won by 118 runs', 'Zimbabwe won by 99 runs',\n",
       "       'Sri Lanka won by 6 runs', 'Kenya won by 32 runs',\n",
       "       'India won by 6 wickets (with 26 balls remaining)',\n",
       "       'Australia won by 2 wickets (with 2 balls remaining)',\n",
       "       'New Zealand won by 5 wickets (with 162 balls remaining)',\n",
       "       'Netherlands won by 64 runs', 'Match tied (D/L method)',\n",
       "       'West Indies won by 142 runs',\n",
       "       'India won by 6 wickets (with 13 balls remaining)',\n",
       "       'New Zealand won by 6 wickets (with 16 balls remaining)',\n",
       "       'India won by 183 runs',\n",
       "       'Kenya won by 7 wickets (with 144 balls remaining)',\n",
       "       'India won by 7 wickets (with 56 balls remaining)',\n",
       "       'Sri Lanka won by 74 runs',\n",
       "       'Australia won by 5 wickets (with 112 balls remaining)',\n",
       "       'Australia won by 48 runs (D/L method)', 'India won by 91 runs',\n",
       "       'Australia won by 125 runs', 'West Indies won by 54 runs',\n",
       "       'Australia won by 203 runs',\n",
       "       'Kenya won by 7 wickets (with 40 balls remaining)',\n",
       "       'Sri Lanka won by 243 runs', 'South Africa won by 221 runs',\n",
       "       'New Zealand won by 6 wickets (with 54 balls remaining)',\n",
       "       'Bangladesh won by 5 wickets (with 9 balls remaining)',\n",
       "       'Ireland won by 3 wickets (with 32 balls remaining) (D/L method)',\n",
       "       'England won by 51 runs', 'Australia won by 229 runs',\n",
       "       'India won by 257 runs',\n",
       "       'West Indies won by 6 wickets (with 13 balls remaining)',\n",
       "       'South Africa won by 7 wickets (with 160 balls remaining)',\n",
       "       'New Zealand won by 148 runs',\n",
       "       'Sri Lanka won by 198 runs (D/L method)',\n",
       "       'Pakistan won by 93 runs (D/L method)',\n",
       "       'Netherlands won by 8 wickets (with 157 balls remaining)',\n",
       "       'New Zealand won by 114 runs', 'Sri Lanka won by 69 runs',\n",
       "       'West Indies won by 8 wickets (with 59 balls remaining) (D/L method)',\n",
       "       'Australia won by 83 runs',\n",
       "       'England won by 7 wickets (with 60 balls remaining)',\n",
       "       'Bangladesh won by 7 wickets (with 21 balls remaining) (D/L method)',\n",
       "       'Australia won by 103 runs',\n",
       "       'South Africa won by 1 wicket (with 10 balls remaining)',\n",
       "       'New Zealand won by 7 wickets (with 64 balls remaining)',\n",
       "       'England won by 48 runs',\n",
       "       'Australia won by 10 wickets (with 49 balls remaining)',\n",
       "       'Sri Lanka won by 113 runs',\n",
       "       'New Zealand won by 9 wickets (with 124 balls remaining)',\n",
       "       'South Africa won by 7 wickets (with 21 balls remaining) (D/L method)',\n",
       "       'Sri Lanka won by 2 runs', 'Bangladesh won by 67 runs',\n",
       "       'Australia won by 7 wickets (with 16 balls remaining)',\n",
       "       'New Zealand won by 129 runs', 'South Africa won by 67 runs',\n",
       "       'England won by 4 wickets (with 31 balls remaining)',\n",
       "       'Sri Lanka won by 6 wickets (with 29 balls remaining)',\n",
       "       'Australia won by 9 wickets (with 226 balls remaining)',\n",
       "       'Ireland won by 74 runs',\n",
       "       'Australia won by 7 wickets (with 44 balls remaining)',\n",
       "       'South Africa won by 9 wickets (with 184 balls remaining)',\n",
       "       'Sri Lanka won by 8 wickets (with 240 balls remaining)',\n",
       "       'West Indies won by 99 runs', 'Australia won by 215 runs',\n",
       "       'England won by 1 wicket (with 1 ball remaining)',\n",
       "       'Sri Lanka won by 81 runs',\n",
       "       'Australia won by 7 wickets (with 111 balls remaining)',\n",
       "       'Australia won by 53 runs (D/L method)', 'India won by 87 runs',\n",
       "       'New Zealand won by 10 wickets (with 252 balls remaining)',\n",
       "       'Sri Lanka won by 210 runs', 'Australia won by 91 runs',\n",
       "       'England won by 6 wickets (with 8 balls remaining)',\n",
       "       'Pakistan won by 205 runs',\n",
       "       'South Africa won by 7 wickets (with 43 balls remaining)',\n",
       "       'Australia won by 7 wickets (with 96 balls remaining)',\n",
       "       'Bangladesh won by 27 runs', 'Zimbabwe won by 175 runs',\n",
       "       'West Indies won by 215 runs',\n",
       "       'Sri Lanka won by 9 wickets (with 188 balls remaining)',\n",
       "       'Ireland won by 3 wickets (with 5 balls remaining)',\n",
       "       'South Africa won by 231 runs',\n",
       "       'New Zealand won by 10 wickets (with 99 balls remaining)',\n",
       "       'West Indies won by 9 wickets (with 226 balls remaining)',\n",
       "       'England won by 6 runs',\n",
       "       'India won by 5 wickets (with 24 balls remaining)',\n",
       "       'Canada won by 5 wickets (with 27 balls remaining)',\n",
       "       'New Zealand won by 110 runs',\n",
       "       'India won by 5 wickets (with 81 balls remaining)',\n",
       "       'Sri Lanka won by 139 runs', 'West Indies won by 44 runs',\n",
       "       'Bangladesh won by 2 wickets (with 6 balls remaining)',\n",
       "       'South Africa won by 3 wickets (with 2 balls remaining)',\n",
       "       'New Zealand won by 97 runs', 'Australia won by 60 runs',\n",
       "       'Bangladesh won by 6 wickets (with 52 balls remaining)',\n",
       "       'Pakistan won by 7 wickets (with 23 balls remaining) (D/L method)',\n",
       "       'South Africa won by 131 runs',\n",
       "       'Australia won by 7 wickets (with 91 balls remaining)',\n",
       "       'England won by 18 runs',\n",
       "       'Ireland won by 6 wickets (with 14 balls remaining)',\n",
       "       'Sri Lanka won by 112 runs', 'South Africa won by 206 runs',\n",
       "       'Pakistan won by 4 wickets (with 54 balls remaining)',\n",
       "       'Zimbabwe won by 161 runs', 'India won by 80 runs',\n",
       "       'Pakistan won by 10 wickets (with 175 balls remaining)',\n",
       "       'India won by 5 wickets (with 14 balls remaining)',\n",
       "       'New Zealand won by 49 runs',\n",
       "       'Sri Lanka won by 10 wickets (with 63 balls remaining)',\n",
       "       'Sri Lanka won by 5 wickets (with 13 balls remaining)',\n",
       "       'India won by 29 runs',\n",
       "       'India won by 6 wickets (with 10 balls remaining)',\n",
       "       'New Zealand won by 98 runs', 'Australia won by 111 runs',\n",
       "       'South Africa won by 62 runs', 'India won by 76 runs',\n",
       "       'Ireland won by 4 wickets (with 25 balls remaining)',\n",
       "       'New Zealand won by 3 wickets (with 151 balls remaining)',\n",
       "       'Bangladesh won by 105 runs',\n",
       "       'Zimbabwe won by 4 wickets (with 12 balls remaining)',\n",
       "       'New Zealand won by 8 wickets (with 226 balls remaining)',\n",
       "       'West Indies won by 150 runs',\n",
       "       'Sri Lanka won by 4 wickets (with 10 balls remaining)',\n",
       "       'India won by 130 runs', 'England won by 119 runs',\n",
       "       'West Indies won by 73 runs (D/L method)',\n",
       "       'Ireland won by 2 wickets (with 4 balls remaining)',\n",
       "       'Afghanistan won by 1 wicket (with 3 balls remaining)',\n",
       "       'Sri Lanka won by 92 runs', 'South Africa won by 257 runs',\n",
       "       'New Zealand won by 1 wicket (with 161 balls remaining)',\n",
       "       'India won by 9 wickets (with 187 balls remaining)',\n",
       "       'Sri Lanka won by 9 wickets (with 16 balls remaining)',\n",
       "       'Pakistan won by 20 runs', 'South Africa won by 201 runs',\n",
       "       'Pakistan won by 129 runs', 'Australia won by 275 runs',\n",
       "       'Bangladesh won by 6 wickets (with 11 balls remaining)',\n",
       "       'India won by 4 wickets (with 65 balls remaining)',\n",
       "       'Pakistan won by 29 runs (D/L method)', 'Ireland won by 5 runs',\n",
       "       'New Zealand won by 6 wickets (with 83 balls remaining)',\n",
       "       'Australia won by 64 runs', 'Bangladesh won by 15 runs',\n",
       "       'India won by 8 wickets (with 79 balls remaining)',\n",
       "       'Sri Lanka won by 148 runs', 'South Africa won by 146 runs',\n",
       "       'New Zealand won by 3 wickets (with 7 balls remaining)',\n",
       "       'England won by 9 wickets (with 41 balls remaining) (D/L method)',\n",
       "       'India won by 6 wickets (with 8 balls remaining)',\n",
       "       'Australia won by 7 wickets (with 208 balls remaining)',\n",
       "       'West Indies won by 6 wickets (with 117 balls remaining)',\n",
       "       'Pakistan won by 7 wickets (with 23 balls remaining)',\n",
       "       'South Africa won by 9 wickets (with 192 balls remaining)',\n",
       "       'India won by 109 runs',\n",
       "       'Australia won by 6 wickets (with 97 balls remaining)',\n",
       "       'New Zealand won by 143 runs',\n",
       "       'New Zealand won by 4 wickets (with 1 ball remaining) (D/L method)',\n",
       "       'Australia won by 95 runs',\n",
       "       'Australia won by 7 wickets (with 101 balls remaining)',\n",
       "       'England won by 104 runs',\n",
       "       'West Indies won by 7 wickets (with 218 balls remaining)',\n",
       "       'New Zealand won by 10 wickets (with 203 balls remaining)',\n",
       "       'Bangladesh won by 21 runs', 'Pakistan won by 14 runs',\n",
       "       'Sri Lanka won by 34 runs (D/L method)',\n",
       "       'India won by 6 wickets (with 15 balls remaining)',\n",
       "       'New Zealand won by 2 wickets (with 17 balls remaining)',\n",
       "       'Australia won by 15 runs',\n",
       "       'New Zealand won by 7 wickets (with 107 balls remaining)',\n",
       "       'India won by 36 runs', 'Australia won by 41 runs',\n",
       "       'England won by 8 wickets (with 101 balls remaining)',\n",
       "       'Australia won by 87 runs',\n",
       "       'South Africa won by 9 wickets (with 116 balls remaining) (D/L method)',\n",
       "       'India won by 89 runs (D/L method)',\n",
       "       'Bangladesh won by 7 wickets (with 51 balls remaining)',\n",
       "       'England won by 150 runs',\n",
       "       'New Zealand won by 4 wickets (with 3 balls remaining)',\n",
       "       'Australia won by 48 runs', 'Sri Lanka won by 20 runs',\n",
       "       'India won by 11 runs', 'New Zealand won by 5 runs',\n",
       "       'Pakistan won by 49 runs',\n",
       "       'Pakistan won by 6 wickets (with 5 balls remaining)',\n",
       "       'India won by 125 runs',\n",
       "       'South Africa won by 9 wickets (with 76 balls remaining)',\n",
       "       'Pakistan won by 3 wickets (with 2 balls remaining)',\n",
       "       'Australia won by 86 runs', 'England won by 31 runs',\n",
       "       'Sri Lanka won by 23 runs', 'India won by 28 runs',\n",
       "       'West Indies won by 23 runs',\n",
       "       'India won by 7 wickets (with 39 balls remaining)',\n",
       "       'South Africa won by 10 runs', 'New Zealand won by 18 runs',\n",
       "       'England won by 8 wickets (with 107 balls remaining)'],\n",
       "      dtype=object)"
      ]
     },
     "execution_count": 83,
     "metadata": {},
     "output_type": "execute_result"
    }
   ],
   "source": [
    "cwc['Winner'].unique()"
   ]
  },
  {
   "cell_type": "code",
   "execution_count": 84,
   "id": "560895cb",
   "metadata": {},
   "outputs": [
    {
     "data": {
      "text/plain": [
       "array(['England', 'New Zealand', 'Australia', 'West Indies', 'India',\n",
       "       'Pakistan', 'Match abandoned without a ball bowled', 'Sri Lanka',\n",
       "       'Zimbabwe', 'South Africa', 'No result', 'Kenya', 'U.A.E.',\n",
       "       'Bangladesh', 'Match tied', 'Canada', 'Netherlands',\n",
       "       'Match tied (D/L method)', 'Ireland', 'Afghanistan'], dtype=object)"
      ]
     },
     "execution_count": 84,
     "metadata": {},
     "output_type": "execute_result"
    }
   ],
   "source": [
    "cwc['Winner'] = cwc['Winner'].str.replace(r' won.*', '', regex=True)\n",
    "\n",
    "cwc['Winner'].unique()"
   ]
  },
  {
   "cell_type": "code",
   "execution_count": 85,
   "id": "faf37e7f",
   "metadata": {},
   "outputs": [
    {
     "data": {
      "text/html": [
       "<div>\n",
       "<style scoped>\n",
       "    .dataframe tbody tr th:only-of-type {\n",
       "        vertical-align: middle;\n",
       "    }\n",
       "\n",
       "    .dataframe tbody tr th {\n",
       "        vertical-align: top;\n",
       "    }\n",
       "\n",
       "    .dataframe thead th {\n",
       "        text-align: right;\n",
       "    }\n",
       "</style>\n",
       "<table border=\"1\" class=\"dataframe\">\n",
       "  <thead>\n",
       "    <tr style=\"text-align: right;\">\n",
       "      <th></th>\n",
       "      <th>Year</th>\n",
       "      <th>bat_first</th>\n",
       "      <th>score_first</th>\n",
       "      <th>bat_second</th>\n",
       "      <th>score_second</th>\n",
       "      <th>Winner</th>\n",
       "    </tr>\n",
       "  </thead>\n",
       "  <tbody>\n",
       "    <tr>\n",
       "      <th>0</th>\n",
       "      <td>1975</td>\n",
       "      <td>ENG</td>\n",
       "      <td>334</td>\n",
       "      <td>IND</td>\n",
       "      <td>132</td>\n",
       "      <td>England</td>\n",
       "    </tr>\n",
       "    <tr>\n",
       "      <th>1</th>\n",
       "      <td>1975</td>\n",
       "      <td>NZ</td>\n",
       "      <td>309</td>\n",
       "      <td>EAS</td>\n",
       "      <td>128</td>\n",
       "      <td>New Zealand</td>\n",
       "    </tr>\n",
       "    <tr>\n",
       "      <th>2</th>\n",
       "      <td>1975</td>\n",
       "      <td>AUS</td>\n",
       "      <td>278</td>\n",
       "      <td>PAK</td>\n",
       "      <td>205</td>\n",
       "      <td>Australia</td>\n",
       "    </tr>\n",
       "    <tr>\n",
       "      <th>3</th>\n",
       "      <td>1975</td>\n",
       "      <td>SL</td>\n",
       "      <td>86</td>\n",
       "      <td>WI</td>\n",
       "      <td>87</td>\n",
       "      <td>West Indies</td>\n",
       "    </tr>\n",
       "    <tr>\n",
       "      <th>4</th>\n",
       "      <td>1975</td>\n",
       "      <td>ENG</td>\n",
       "      <td>266</td>\n",
       "      <td>NZ</td>\n",
       "      <td>186</td>\n",
       "      <td>England</td>\n",
       "    </tr>\n",
       "  </tbody>\n",
       "</table>\n",
       "</div>"
      ],
      "text/plain": [
       "   Year bat_first  score_first bat_second  score_second       Winner\n",
       "0  1975       ENG          334        IND           132      England\n",
       "1  1975        NZ          309        EAS           128  New Zealand\n",
       "2  1975       AUS          278        PAK           205    Australia\n",
       "3  1975        SL           86         WI            87  West Indies\n",
       "4  1975       ENG          266         NZ           186      England"
      ]
     },
     "execution_count": 85,
     "metadata": {},
     "output_type": "execute_result"
    }
   ],
   "source": [
    "cwc.head()"
   ]
  },
  {
   "cell_type": "code",
   "execution_count": 90,
   "id": "40888c4c",
   "metadata": {},
   "outputs": [],
   "source": [
    "cwc['Winner'].replace({\n",
    "    'Match abandoned without a ball bowled': 'No result',\n",
    "    'Match tied': 'Tie',\n",
    "    'Match tied (D/L method)': 'Tie'\n",
    "}, inplace=True)"
   ]
  },
  {
   "cell_type": "code",
   "execution_count": 103,
   "id": "2cc5bd48",
   "metadata": {},
   "outputs": [
    {
     "data": {
      "text/plain": [
       "array(['Eng', 'NZ', 'Aus', 'WI', 'Ind', 'Pak', 'nan', 'SL', 'Zim', 'SA',\n",
       "       'No ', 'Ken', 'U.A', 'Ban', 'Tie', 'Can', 'Net', 'Ire', 'Afg'],\n",
       "      dtype=object)"
      ]
     },
     "execution_count": 103,
     "metadata": {},
     "output_type": "execute_result"
    }
   ],
   "source": [
    "cwc['Winner'].unique()"
   ]
  },
  {
   "cell_type": "code",
   "execution_count": 104,
   "id": "26198a13",
   "metadata": {},
   "outputs": [],
   "source": [
    "cwc['Winner'].replace({\n",
    "    'South Africa': 'SA',\n",
    "    'United Arab Emirates': 'UAE',\n",
    "    'U.A.E': 'UAE',\n",
    "    'West Indies': 'WI',\n",
    "    'New Zealand': 'NZ',\n",
    "    'Sri Lanka' : 'SL'\n",
    "}, inplace=True)"
   ]
  },
  {
   "cell_type": "code",
   "execution_count": 101,
   "id": "4e4efade",
   "metadata": {},
   "outputs": [],
   "source": [
    "# taking the first three letters\n",
    "#cwc['Winner'] = cwc['Winner'].apply(lambda x: x[:3] if len(x) > 2 else x)"
   ]
  },
  {
   "cell_type": "code",
   "execution_count": 105,
   "id": "d98ab3f5",
   "metadata": {},
   "outputs": [
    {
     "data": {
      "text/plain": [
       "array(['Eng', 'NZ', 'Aus', 'WI', 'Ind', 'Pak', 'nan', 'SL', 'Zim', 'SA',\n",
       "       'No ', 'Ken', 'U.A', 'Ban', 'Tie', 'Can', 'Net', 'Ire', 'Afg'],\n",
       "      dtype=object)"
      ]
     },
     "execution_count": 105,
     "metadata": {},
     "output_type": "execute_result"
    }
   ],
   "source": [
    "cwc['Winner'].unique()"
   ]
  },
  {
   "cell_type": "code",
   "execution_count": 106,
   "id": "15da3de2",
   "metadata": {},
   "outputs": [
    {
     "data": {
      "text/plain": [
       "Aus    69\n",
       "NZ     54\n",
       "Ind    53\n",
       "Eng    48\n",
       "Pak    45\n",
       "WI     43\n",
       "SL     40\n",
       "SA     38\n",
       "Ban    14\n",
       "Zim    12\n",
       "No      8\n",
       "Ken     7\n",
       "Ire     7\n",
       "nan     5\n",
       "Tie     5\n",
       "Can     2\n",
       "Net     2\n",
       "U.A     1\n",
       "Afg     1\n",
       "Name: Winner, dtype: int64"
      ]
     },
     "execution_count": 106,
     "metadata": {},
     "output_type": "execute_result"
    }
   ],
   "source": [
    "cwc['Winner'].value_counts()"
   ]
  },
  {
   "cell_type": "code",
   "execution_count": 107,
   "id": "2bda74c6",
   "metadata": {},
   "outputs": [],
   "source": [
    "cwc['Winner'].replace({\n",
    "    'No' : 'No Result',\n",
    "    'U.A' : 'UAE'\n",
    "}, inplace=True)"
   ]
  },
  {
   "cell_type": "code",
   "execution_count": 108,
   "id": "c5dac00d",
   "metadata": {},
   "outputs": [
    {
     "data": {
      "text/plain": [
       "Aus    69\n",
       "NZ     54\n",
       "Ind    53\n",
       "Eng    48\n",
       "Pak    45\n",
       "WI     43\n",
       "SL     40\n",
       "SA     38\n",
       "Ban    14\n",
       "Zim    12\n",
       "No      8\n",
       "Ken     7\n",
       "Ire     7\n",
       "nan     5\n",
       "Tie     5\n",
       "Can     2\n",
       "Net     2\n",
       "UAE     1\n",
       "Afg     1\n",
       "Name: Winner, dtype: int64"
      ]
     },
     "execution_count": 108,
     "metadata": {},
     "output_type": "execute_result"
    }
   ],
   "source": [
    "cwc['Winner'].value_counts()"
   ]
  },
  {
   "cell_type": "code",
   "execution_count": 109,
   "id": "176de0d7",
   "metadata": {},
   "outputs": [
    {
     "data": {
      "image/png": "[encoded data removed]",
      "text/plain": [
       "<Figure size 864x432 with 1 Axes>"
      ]
     },
     "metadata": {
      "needs_background": "light"
     },
     "output_type": "display_data"
    }
   ],
   "source": [
    "winner_frequency = cwc['Winner'].value_counts()\n",
    "\n",
    "# Create a bar chart\n",
    "plt.figure(figsize=(12, 6))  # Adjust the figure size if needed\n",
    "winner_frequency.plot(kind='bar')\n",
    "plt.title('Frequencies of Winners')\n",
    "plt.xlabel('Winner')\n",
    "plt.ylabel('Frequency')\n",
    "plt.xticks(rotation=90)  # Rotate x-axis labels for better readability\n",
    "\n",
    "# Show the bar chart\n",
    "plt.show()"
   ]
  },
  {
   "cell_type": "code",
   "execution_count": 110,
   "id": "deabff9e",
   "metadata": {},
   "outputs": [
    {
     "data": {
      "text/plain": [
       "Index(['Year', 'bat_first', 'score_first', 'bat_second', 'score_second',\n",
       "       'Winner'],\n",
       "      dtype='object')"
      ]
     },
     "execution_count": 110,
     "metadata": {},
     "output_type": "execute_result"
    }
   ],
   "source": [
    "cwc.columns"
   ]
  },
  {
   "cell_type": "markdown",
   "id": "014196bd",
   "metadata": {},
   "source": [
    "# Model Selection & Prediction"
   ]
  },
  {
   "cell_type": "code",
   "execution_count": 114,
   "id": "bda781c3",
   "metadata": {},
   "outputs": [],
   "source": [
    "from sklearn.model_selection import train_test_split"
   ]
  },
  {
   "cell_type": "code",
   "execution_count": 115,
   "id": "f5f23d0f",
   "metadata": {},
   "outputs": [],
   "source": [
    "X = cwc[['Year', 'bat_first', 'score_first', 'bat_second', 'score_second']]\n",
    "y = cwc['Winner']"
   ]
  },
  {
   "cell_type": "code",
   "execution_count": 116,
   "id": "9f63a27a",
   "metadata": {},
   "outputs": [],
   "source": [
    "X_train, X_test, y_train, y_test = train_test_split(X, y, test_size=0.2, random_state=42)"
   ]
  },
  {
   "cell_type": "code",
   "execution_count": 117,
   "id": "9ed82521",
   "metadata": {},
   "outputs": [],
   "source": [
    "X_train.to_csv('train.csv', index=False)\n",
    "y_train.to_csv('train_labels.csv', index=False)\n",
    "\n",
    "X_test.to_csv('test.csv', index=False)\n",
    "y_test.to_csv('test_labels.csv', index=False)"
   ]
  },
  {
   "cell_type": "code",
   "execution_count": 118,
   "id": "441512cf",
   "metadata": {},
   "outputs": [
    {
     "ename": "ValueError",
     "evalue": "could not convert string to float: 'SL'",
     "output_type": "error",
     "traceback": [
      "\u001b[1;31m---------------------------------------------------------------------------\u001b[0m",
      "\u001b[1;31mValueError\u001b[0m                                Traceback (most recent call last)",
      "Input \u001b[1;32mIn [118]\u001b[0m, in \u001b[0;36m<cell line: 13>\u001b[1;34m()\u001b[0m\n\u001b[0;32m     11\u001b[0m \u001b[38;5;66;03m# Logistic Regression\u001b[39;00m\n\u001b[0;32m     12\u001b[0m logistic_model \u001b[38;5;241m=\u001b[39m LogisticRegression()\n\u001b[1;32m---> 13\u001b[0m \u001b[43mlogistic_model\u001b[49m\u001b[38;5;241;43m.\u001b[39;49m\u001b[43mfit\u001b[49m\u001b[43m(\u001b[49m\u001b[43mX_train\u001b[49m\u001b[43m,\u001b[49m\u001b[43m \u001b[49m\u001b[43my_train\u001b[49m\u001b[43m)\u001b[49m\n\u001b[0;32m     14\u001b[0m logistic_predictions \u001b[38;5;241m=\u001b[39m logistic_model\u001b[38;5;241m.\u001b[39mpredict(X_test)\n\u001b[0;32m     15\u001b[0m logistic_accuracy \u001b[38;5;241m=\u001b[39m accuracy_score(y_test, logistic_predictions)\n",
      "File \u001b[1;32mD:\\Anaconda1\\lib\\site-packages\\sklearn\\linear_model\\_logistic.py:1508\u001b[0m, in \u001b[0;36mLogisticRegression.fit\u001b[1;34m(self, X, y, sample_weight)\u001b[0m\n\u001b[0;32m   1505\u001b[0m \u001b[38;5;28;01melse\u001b[39;00m:\n\u001b[0;32m   1506\u001b[0m     _dtype \u001b[38;5;241m=\u001b[39m [np\u001b[38;5;241m.\u001b[39mfloat64, np\u001b[38;5;241m.\u001b[39mfloat32]\n\u001b[1;32m-> 1508\u001b[0m X, y \u001b[38;5;241m=\u001b[39m \u001b[38;5;28;43mself\u001b[39;49m\u001b[38;5;241;43m.\u001b[39;49m\u001b[43m_validate_data\u001b[49m\u001b[43m(\u001b[49m\n\u001b[0;32m   1509\u001b[0m \u001b[43m    \u001b[49m\u001b[43mX\u001b[49m\u001b[43m,\u001b[49m\n\u001b[0;32m   1510\u001b[0m \u001b[43m    \u001b[49m\u001b[43my\u001b[49m\u001b[43m,\u001b[49m\n\u001b[0;32m   1511\u001b[0m \u001b[43m    \u001b[49m\u001b[43maccept_sparse\u001b[49m\u001b[38;5;241;43m=\u001b[39;49m\u001b[38;5;124;43m\"\u001b[39;49m\u001b[38;5;124;43mcsr\u001b[39;49m\u001b[38;5;124;43m\"\u001b[39;49m\u001b[43m,\u001b[49m\n\u001b[0;32m   1512\u001b[0m \u001b[43m    \u001b[49m\u001b[43mdtype\u001b[49m\u001b[38;5;241;43m=\u001b[39;49m\u001b[43m_dtype\u001b[49m\u001b[43m,\u001b[49m\n\u001b[0;32m   1513\u001b[0m \u001b[43m    \u001b[49m\u001b[43morder\u001b[49m\u001b[38;5;241;43m=\u001b[39;49m\u001b[38;5;124;43m\"\u001b[39;49m\u001b[38;5;124;43mC\u001b[39;49m\u001b[38;5;124;43m\"\u001b[39;49m\u001b[43m,\u001b[49m\n\u001b[0;32m   1514\u001b[0m \u001b[43m    \u001b[49m\u001b[43maccept_large_sparse\u001b[49m\u001b[38;5;241;43m=\u001b[39;49m\u001b[43msolver\u001b[49m\u001b[43m \u001b[49m\u001b[38;5;129;43;01mnot\u001b[39;49;00m\u001b[43m \u001b[49m\u001b[38;5;129;43;01min\u001b[39;49;00m\u001b[43m \u001b[49m\u001b[43m[\u001b[49m\u001b[38;5;124;43m\"\u001b[39;49m\u001b[38;5;124;43mliblinear\u001b[39;49m\u001b[38;5;124;43m\"\u001b[39;49m\u001b[43m,\u001b[49m\u001b[43m \u001b[49m\u001b[38;5;124;43m\"\u001b[39;49m\u001b[38;5;124;43msag\u001b[39;49m\u001b[38;5;124;43m\"\u001b[39;49m\u001b[43m,\u001b[49m\u001b[43m \u001b[49m\u001b[38;5;124;43m\"\u001b[39;49m\u001b[38;5;124;43msaga\u001b[39;49m\u001b[38;5;124;43m\"\u001b[39;49m\u001b[43m]\u001b[49m\u001b[43m,\u001b[49m\n\u001b[0;32m   1515\u001b[0m \u001b[43m\u001b[49m\u001b[43m)\u001b[49m\n\u001b[0;32m   1516\u001b[0m check_classification_targets(y)\n\u001b[0;32m   1517\u001b[0m \u001b[38;5;28mself\u001b[39m\u001b[38;5;241m.\u001b[39mclasses_ \u001b[38;5;241m=\u001b[39m np\u001b[38;5;241m.\u001b[39munique(y)\n",
      "File \u001b[1;32mD:\\Anaconda1\\lib\\site-packages\\sklearn\\base.py:581\u001b[0m, in \u001b[0;36mBaseEstimator._validate_data\u001b[1;34m(self, X, y, reset, validate_separately, **check_params)\u001b[0m\n\u001b[0;32m    579\u001b[0m         y \u001b[38;5;241m=\u001b[39m check_array(y, \u001b[38;5;241m*\u001b[39m\u001b[38;5;241m*\u001b[39mcheck_y_params)\n\u001b[0;32m    580\u001b[0m     \u001b[38;5;28;01melse\u001b[39;00m:\n\u001b[1;32m--> 581\u001b[0m         X, y \u001b[38;5;241m=\u001b[39m check_X_y(X, y, \u001b[38;5;241m*\u001b[39m\u001b[38;5;241m*\u001b[39mcheck_params)\n\u001b[0;32m    582\u001b[0m     out \u001b[38;5;241m=\u001b[39m X, y\n\u001b[0;32m    584\u001b[0m \u001b[38;5;28;01mif\u001b[39;00m \u001b[38;5;129;01mnot\u001b[39;00m no_val_X \u001b[38;5;129;01mand\u001b[39;00m check_params\u001b[38;5;241m.\u001b[39mget(\u001b[38;5;124m\"\u001b[39m\u001b[38;5;124mensure_2d\u001b[39m\u001b[38;5;124m\"\u001b[39m, \u001b[38;5;28;01mTrue\u001b[39;00m):\n",
      "File \u001b[1;32mD:\\Anaconda1\\lib\\site-packages\\sklearn\\utils\\validation.py:964\u001b[0m, in \u001b[0;36mcheck_X_y\u001b[1;34m(X, y, accept_sparse, accept_large_sparse, dtype, order, copy, force_all_finite, ensure_2d, allow_nd, multi_output, ensure_min_samples, ensure_min_features, y_numeric, estimator)\u001b[0m\n\u001b[0;32m    961\u001b[0m \u001b[38;5;28;01mif\u001b[39;00m y \u001b[38;5;129;01mis\u001b[39;00m \u001b[38;5;28;01mNone\u001b[39;00m:\n\u001b[0;32m    962\u001b[0m     \u001b[38;5;28;01mraise\u001b[39;00m \u001b[38;5;167;01mValueError\u001b[39;00m(\u001b[38;5;124m\"\u001b[39m\u001b[38;5;124my cannot be None\u001b[39m\u001b[38;5;124m\"\u001b[39m)\n\u001b[1;32m--> 964\u001b[0m X \u001b[38;5;241m=\u001b[39m \u001b[43mcheck_array\u001b[49m\u001b[43m(\u001b[49m\n\u001b[0;32m    965\u001b[0m \u001b[43m    \u001b[49m\u001b[43mX\u001b[49m\u001b[43m,\u001b[49m\n\u001b[0;32m    966\u001b[0m \u001b[43m    \u001b[49m\u001b[43maccept_sparse\u001b[49m\u001b[38;5;241;43m=\u001b[39;49m\u001b[43maccept_sparse\u001b[49m\u001b[43m,\u001b[49m\n\u001b[0;32m    967\u001b[0m \u001b[43m    \u001b[49m\u001b[43maccept_large_sparse\u001b[49m\u001b[38;5;241;43m=\u001b[39;49m\u001b[43maccept_large_sparse\u001b[49m\u001b[43m,\u001b[49m\n\u001b[0;32m    968\u001b[0m \u001b[43m    \u001b[49m\u001b[43mdtype\u001b[49m\u001b[38;5;241;43m=\u001b[39;49m\u001b[43mdtype\u001b[49m\u001b[43m,\u001b[49m\n\u001b[0;32m    969\u001b[0m \u001b[43m    \u001b[49m\u001b[43morder\u001b[49m\u001b[38;5;241;43m=\u001b[39;49m\u001b[43morder\u001b[49m\u001b[43m,\u001b[49m\n\u001b[0;32m    970\u001b[0m \u001b[43m    \u001b[49m\u001b[43mcopy\u001b[49m\u001b[38;5;241;43m=\u001b[39;49m\u001b[43mcopy\u001b[49m\u001b[43m,\u001b[49m\n\u001b[0;32m    971\u001b[0m \u001b[43m    \u001b[49m\u001b[43mforce_all_finite\u001b[49m\u001b[38;5;241;43m=\u001b[39;49m\u001b[43mforce_all_finite\u001b[49m\u001b[43m,\u001b[49m\n\u001b[0;32m    972\u001b[0m \u001b[43m    \u001b[49m\u001b[43mensure_2d\u001b[49m\u001b[38;5;241;43m=\u001b[39;49m\u001b[43mensure_2d\u001b[49m\u001b[43m,\u001b[49m\n\u001b[0;32m    973\u001b[0m \u001b[43m    \u001b[49m\u001b[43mallow_nd\u001b[49m\u001b[38;5;241;43m=\u001b[39;49m\u001b[43mallow_nd\u001b[49m\u001b[43m,\u001b[49m\n\u001b[0;32m    974\u001b[0m \u001b[43m    \u001b[49m\u001b[43mensure_min_samples\u001b[49m\u001b[38;5;241;43m=\u001b[39;49m\u001b[43mensure_min_samples\u001b[49m\u001b[43m,\u001b[49m\n\u001b[0;32m    975\u001b[0m \u001b[43m    \u001b[49m\u001b[43mensure_min_features\u001b[49m\u001b[38;5;241;43m=\u001b[39;49m\u001b[43mensure_min_features\u001b[49m\u001b[43m,\u001b[49m\n\u001b[0;32m    976\u001b[0m \u001b[43m    \u001b[49m\u001b[43mestimator\u001b[49m\u001b[38;5;241;43m=\u001b[39;49m\u001b[43mestimator\u001b[49m\u001b[43m,\u001b[49m\n\u001b[0;32m    977\u001b[0m \u001b[43m\u001b[49m\u001b[43m)\u001b[49m\n\u001b[0;32m    979\u001b[0m y \u001b[38;5;241m=\u001b[39m _check_y(y, multi_output\u001b[38;5;241m=\u001b[39mmulti_output, y_numeric\u001b[38;5;241m=\u001b[39my_numeric)\n\u001b[0;32m    981\u001b[0m check_consistent_length(X, y)\n",
      "File \u001b[1;32mD:\\Anaconda1\\lib\\site-packages\\sklearn\\utils\\validation.py:746\u001b[0m, in \u001b[0;36mcheck_array\u001b[1;34m(array, accept_sparse, accept_large_sparse, dtype, order, copy, force_all_finite, ensure_2d, allow_nd, ensure_min_samples, ensure_min_features, estimator)\u001b[0m\n\u001b[0;32m    744\u001b[0m         array \u001b[38;5;241m=\u001b[39m array\u001b[38;5;241m.\u001b[39mastype(dtype, casting\u001b[38;5;241m=\u001b[39m\u001b[38;5;124m\"\u001b[39m\u001b[38;5;124munsafe\u001b[39m\u001b[38;5;124m\"\u001b[39m, copy\u001b[38;5;241m=\u001b[39m\u001b[38;5;28;01mFalse\u001b[39;00m)\n\u001b[0;32m    745\u001b[0m     \u001b[38;5;28;01melse\u001b[39;00m:\n\u001b[1;32m--> 746\u001b[0m         array \u001b[38;5;241m=\u001b[39m \u001b[43mnp\u001b[49m\u001b[38;5;241;43m.\u001b[39;49m\u001b[43masarray\u001b[49m\u001b[43m(\u001b[49m\u001b[43marray\u001b[49m\u001b[43m,\u001b[49m\u001b[43m \u001b[49m\u001b[43morder\u001b[49m\u001b[38;5;241;43m=\u001b[39;49m\u001b[43morder\u001b[49m\u001b[43m,\u001b[49m\u001b[43m \u001b[49m\u001b[43mdtype\u001b[49m\u001b[38;5;241;43m=\u001b[39;49m\u001b[43mdtype\u001b[49m\u001b[43m)\u001b[49m\n\u001b[0;32m    747\u001b[0m \u001b[38;5;28;01mexcept\u001b[39;00m ComplexWarning \u001b[38;5;28;01mas\u001b[39;00m complex_warning:\n\u001b[0;32m    748\u001b[0m     \u001b[38;5;28;01mraise\u001b[39;00m \u001b[38;5;167;01mValueError\u001b[39;00m(\n\u001b[0;32m    749\u001b[0m         \u001b[38;5;124m\"\u001b[39m\u001b[38;5;124mComplex data not supported\u001b[39m\u001b[38;5;130;01m\\n\u001b[39;00m\u001b[38;5;132;01m{}\u001b[39;00m\u001b[38;5;130;01m\\n\u001b[39;00m\u001b[38;5;124m\"\u001b[39m\u001b[38;5;241m.\u001b[39mformat(array)\n\u001b[0;32m    750\u001b[0m     ) \u001b[38;5;28;01mfrom\u001b[39;00m \u001b[38;5;21;01mcomplex_warning\u001b[39;00m\n",
      "File \u001b[1;32mD:\\Anaconda1\\lib\\site-packages\\pandas\\core\\generic.py:2064\u001b[0m, in \u001b[0;36mNDFrame.__array__\u001b[1;34m(self, dtype)\u001b[0m\n\u001b[0;32m   2063\u001b[0m \u001b[38;5;28;01mdef\u001b[39;00m \u001b[38;5;21m__array__\u001b[39m(\u001b[38;5;28mself\u001b[39m, dtype: npt\u001b[38;5;241m.\u001b[39mDTypeLike \u001b[38;5;241m|\u001b[39m \u001b[38;5;28;01mNone\u001b[39;00m \u001b[38;5;241m=\u001b[39m \u001b[38;5;28;01mNone\u001b[39;00m) \u001b[38;5;241m-\u001b[39m\u001b[38;5;241m>\u001b[39m np\u001b[38;5;241m.\u001b[39mndarray:\n\u001b[1;32m-> 2064\u001b[0m     \u001b[38;5;28;01mreturn\u001b[39;00m \u001b[43mnp\u001b[49m\u001b[38;5;241;43m.\u001b[39;49m\u001b[43masarray\u001b[49m\u001b[43m(\u001b[49m\u001b[38;5;28;43mself\u001b[39;49m\u001b[38;5;241;43m.\u001b[39;49m\u001b[43m_values\u001b[49m\u001b[43m,\u001b[49m\u001b[43m \u001b[49m\u001b[43mdtype\u001b[49m\u001b[38;5;241;43m=\u001b[39;49m\u001b[43mdtype\u001b[49m\u001b[43m)\u001b[49m\n",
      "\u001b[1;31mValueError\u001b[0m: could not convert string to float: 'SL'"
     ]
    }
   ],
   "source": [
    "from sklearn.linear_model import LogisticRegression\n",
    "from sklearn.tree import DecisionTreeClassifier\n",
    "from sklearn.metrics import accuracy_score, classification_report\n",
    "\n",
    "# Load the data\n",
    "X_train = pd.read_csv('train.csv')\n",
    "y_train = pd.read_csv('train_labels.csv')\n",
    "X_test = pd.read_csv('test.csv')\n",
    "y_test = pd.read_csv('test_labels.csv')\n",
    "\n",
    "# Logistic Regression\n",
    "logistic_model = LogisticRegression()\n",
    "logistic_model.fit(X_train, y_train)\n",
    "logistic_predictions = logistic_model.predict(X_test)\n",
    "logistic_accuracy = accuracy_score(y_test, logistic_predictions)\n",
    "\n",
    "# Decision Tree\n",
    "decision_tree_model = DecisionTreeClassifier()\n",
    "decision_tree_model.fit(X_train, y_train)\n",
    "decision_tree_predictions = decision_tree_model.predict(X_test)\n",
    "decision_tree_accuracy = accuracy_score(y_test, decision_tree_predictions)\n",
    "\n",
    "#accuracy of both models\n",
    "print(\"Logistic Regression Accuracy:\", logistic_accuracy)\n",
    "print(\"Decision Tree Accuracy:\", decision_tree_accuracy)\n",
    "\n",
    "#classification reports for more detailed metrics\n",
    "print(\"Logistic Regression Classification Report:\\n\", classification_report(y_test, logistic_predictions))\n",
    "print(\"Decision Tree Classification Report:\\n\", classification_report(y_test, decision_tree_predictions))\n"
   ]
  },
  {
   "cell_type": "code",
   "execution_count": null,
   "id": "c196a57b",
   "metadata": {},
   "outputs": [],
   "source": []
  }
 ],
 "metadata": {
  "kernelspec": {
   "display_name": "Python 3 (ipykernel)",
   "language": "python",
   "name": "python3"
  },
  "language_info": {
   "codemirror_mode": {
    "name": "ipython",
    "version": 3
   },
   "file_extension": ".py",
   "mimetype": "text/x-python",
   "name": "python",
   "nbconvert_exporter": "python",
   "pygments_lexer": "ipython3",
   "version": "3.9.12"
  }
 },
 "nbformat": 4,
 "nbformat_minor": 5
}
